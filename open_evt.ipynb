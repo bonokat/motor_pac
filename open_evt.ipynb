{
 "cells": [
  {
   "cell_type": "code",
   "execution_count": 8,
   "metadata": {},
   "outputs": [
    {
     "name": "stdout",
     "output_type": "stream",
     "text": [
      "                                    0                                       1  \\\n",
      "0  \u0000\u0000\u0000\u0000\u0000\u0000\u0000\u0000\u0000\u0000\u0000\u0000h\u0000\u0000\u0000\u0000\u0000\u0000\u0000\u0000\u0000\u0000\u0000ÿÿÿÿ\u0017class        dcEventsLibrary_c\u0000Ì\u0002\u0000\u0000ÿÿÿÿ\u0014class   \n",
      "1                   L\u00103æ@µ¹{Ê{&è?\u0001\u0000\u0000\u0000                             EventCode\u0003\u0000   \n",
      "2                   L\u00103æ@¢6»ÿÙàë?\u0001\u0000\u0000\u0000                             EventCode\u0003\u0000   \n",
      "3                      \u0000\u0000\u0000\u0000ÿÿÿÿ\u0014class                          dcEpochEvent_c   \n",
      "4                      \u0000\u0000\u0000\u0000ÿÿÿÿ\u0014class  dcEpochEvent_c\u000f\u0000\u0000\u0000\u0000\u0000\u0000\u0000\u0000\u0000\u0000\u0000\u0000\u0000\u0000\u0000\u0000\u0000\u0000\u0000\u0000\u0000\u0000\u0000   \n",
      "\n",
      "                                        2  \\\n",
      "0  dcEpochEvent_c\u0002\u0000\u0000\u0000\u0000\u0000\u0000\u0000\u0000\u0000\u0000\u0000\u0000\u0000\u0000\u0000\u0000\u0000\u0000\u0000\u0000\u0000\u0000\u0000   \n",
      "1                          \u0000\u0000\u0000\u0000ÿÿÿÿ\u0014class   \n",
      "2                                    None   \n",
      "3                 \u0000\u0000\u0000\u0000\u0000\u0000\u0000\u0000\u0000\u0000\u0000\u0000\u0000\u0000\u0000\u0000\u0000\u0000\u0000\u0000\u0000\u0000\u0000   \n",
      "4                                   Epoch   \n",
      "\n",
      "                                             3  \\\n",
      "0                                        Epoch   \n",
      "1       dcEpochEvent_c\u0005\u0000\u0000\u0000\u0000\u0000\u0000\u0000\u0000\u0000\u0000\u0000\u0000\u0000\u0000\u0000\u0000\u0000\u0000\u0000\u0000\u0000\u0000\u0000   \n",
      "2                                         None   \n",
      "3                                        Epoch   \n",
      "4  Event\u0000\u0004\u0000\u0000\u0000\u0000\u0000\u0000\u0000\u0001\u0000\u0000\u0000\u0000\u0000\u0000\u0000\u0000\u0000\u0000\u0000\u0000\u0000\u0000\u0000\u0000âoSL\u00103æ@Öiî2   \n",
      "\n",
      "                                                   4  \\\n",
      "0           Event\u0000\u0004\u0000\u0000\u0000\u0000\u0000\u0000\u0000\u0001\u0000\u0000\u0000\u0000\u0000\u0000\u0000\u0000\u0000\u0000\u0000\u0000\u0000\u0000\u0000\u0000¿XòK\u00103æ@e   \n",
      "1                                              Epoch   \n",
      "2                                               None   \n",
      "3  Event\u0000\u0004\u0000\u0000\u0000\u0000\u0000\u0000\u0000\u0001\u0000\u0000\u0000\u0000\u0000\u0000\u0000\u0000\u0000\u0000\u0000\u0000\u0000\u0000\u0000\u0000âoSL\u00103æ@ÏWíuÜ...   \n",
      "4                                               None   \n",
      "\n",
      "                                   5               6  \n",
      "0                         égE¯Ð?\u0001\u0000\u0000\u0000     EventCode\u0003\u0000  \n",
      "1  Event\u0000\u0004\u0000\u0000\u0000\u0000\u0000\u0000\u0000\u0001\u0000\u0000\u0000\u0000\u0000\u0000\u0000\u0000\u0000\u0000\u0000\u0000\u0000\u0000\u0000\u0000            None  \n",
      "2                               None            None  \n",
      "3         EventCode\u0003\u0000\u000f\u0000\u0000\u0000\u0000ÿÿÿÿ\u0014class  dcEpochEvent_c  \n",
      "4                               None            None  \n"
     ]
    },
    {
     "name": "stderr",
     "output_type": "stream",
     "text": [
      "C:\\Users\\a1902989\\AppData\\Local\\Temp\\ipykernel_32380\\1128500023.py:5: FutureWarning: The 'delim_whitespace' keyword in pd.read_csv is deprecated and will be removed in a future version. Use ``sep='\\s+'`` instead\n",
      "  df = pd.read_csv(evt_file, delim_whitespace=True, header=None, encoding='latin1', on_bad_lines='skip', engine='python')\n"
     ]
    }
   ],
   "source": [
    "import pandas as pd\n",
    "\n",
    "# Load the .evt file\n",
    "evt_file = \"D:\\\\BonoKat\\\\research project\\\\# study 1\\\\eeg_data\\\\cnt\\\\Y\\\\s1_pac_sub01\\\\s1_pac_sub01_BL.evt\"\n",
    "df = pd.read_csv(evt_file, delim_whitespace=True, header=None, encoding='latin1', on_bad_lines='skip', engine='python')\n",
    "\n",
    "# Display the first few rows\n",
    "print(df.head())\n"
   ]
  }
 ],
 "metadata": {
  "kernelspec": {
   "display_name": "venv",
   "language": "python",
   "name": "python3"
  },
  "language_info": {
   "codemirror_mode": {
    "name": "ipython",
    "version": 3
   },
   "file_extension": ".py",
   "mimetype": "text/x-python",
   "name": "python",
   "nbconvert_exporter": "python",
   "pygments_lexer": "ipython3",
   "version": "3.12.7"
  }
 },
 "nbformat": 4,
 "nbformat_minor": 2
}
