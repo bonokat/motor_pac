{
  "cells": [
    {
      "cell_type": "code",
      "execution_count": null,
      "metadata": {
        "collapsed": false
      },
      "outputs": [],
      "source": [
        "%matplotlib inline"
      ]
    },
    {
      "cell_type": "markdown",
      "metadata": {},
      "source": [
        "\n# Compute and plot the p-values\n\n\nThis example illustrates how to compute and plot the p-values. To this end,\nTensorpac uses permutations to estimate the distribution of PAC that could be\nobtained by chance. Then, the true PAC estimation is compared with those\nsurrogates in order to get the p-values.\n\nNote that the correction for multiple comparisons is automatically performed\nacross all phases and amplitudes. Tensorpac uses the maximum statistics to\nperform this correction. Indeed, the permutations are computed for each\n(phase, amplitude) pairs. The p-values are then inferred using the maximum\nacross all of the pairs.\n\n"
      ]
    },
    {
      "cell_type": "code",
      "execution_count": null,
      "metadata": {
        "collapsed": false
      },
      "outputs": [],
      "source": [
        "from tensorpac import Pac\nfrom tensorpac.signals import pac_signals_wavelet\n\nimport matplotlib.pyplot as plt"
      ]
    },
    {
      "cell_type": "markdown",
      "metadata": {},
      "source": [
        "Simulate artificial coupling\n##############################################################################\n first, we generate a single trial that contains a coupling between a 6z phase\n and a 90hz amplitude. By default, the returned dataset is organized as\n (n_epochs, n_times) where n_times is the number of time points and n_epochs\n is the number of trials\n\n"
      ]
    },
    {
      "cell_type": "code",
      "execution_count": null,
      "metadata": {
        "collapsed": false
      },
      "outputs": [],
      "source": [
        "f_pha = 6       # frequency phase for the coupling\nf_amp = 90      # frequency amplitude for the coupling\nn_epochs = 1    # number of trials\nn_times = 4000  # number of time points\nsf = 512.       # sampling frequency\ndata, time = pac_signals_wavelet(f_pha=f_pha, f_amp=f_amp, noise=.8,\n                                 n_epochs=n_epochs, n_times=n_times, sf=sf)"
      ]
    },
    {
      "cell_type": "markdown",
      "metadata": {},
      "source": [
        "Compute true PAC estimation and surrogates distribution\n##############################################################################\n Now, we compute the PAC using multiple phases and amplitudes such as the\n distribution of surrogates. In this example, we used the method proposed by \n Bahramisharif et al. 2013 :cite:`bahramisharif2013propagating` and also\n recommended by Aru et al. 2015 :cite:`aru2015untangling`. This method\n consists in swapping two time blocks of amplitudes cut at a random time\n point. Then, we used the method :class:`tensorpac.Pac.infer_pvalues` in order\n to get the corrected p-values across all possible (phase, amplitude)\n frequency pairs.\n\n"
      ]
    },
    {
      "cell_type": "code",
      "execution_count": null,
      "metadata": {
        "collapsed": false
      },
      "outputs": [],
      "source": [
        "# define the Pac object\np = Pac(idpac=(2, 2, 0), f_pha=(2, 15, 2, .2), f_amp=(60, 120, 5, 1))\n# compute true pac and surrogates\nn_perm = 200  # number of permutations\nxpac = p.filterfit(sf, data, n_perm=n_perm, n_jobs=-1,\n                   random_state=0).squeeze()\n# get the corrected p-values\npval = p.infer_pvalues(p=0.05)\n# get the mean pac values where it's detected as significant\nxpac_smean = xpac[pval < .05].mean()\n\n# if you want to see how the surrogates looks like, you can have to access\n# using :class:`tensorpac.Pac.surrogates`\nsurro = p.surrogates.squeeze()\nprint(f\"Surrogates shape (n_perm, n_amp, n_pha) : {surro.shape}\")\n# get the maximum of the surrogates across (phase, amplitude) pairs\nsurro_max = surro.max(axis=(1, 2))\n\nplt.figure(figsize=(16, 5))\nplt.subplot(131)\np.comodulogram(xpac, title=str(p), cmap='Spectral_r', vmin=0., pvalues=pval,\n               levels=.05)\n\nplt.subplot(132)\np.comodulogram(pval, title='P-values', cmap='bwr_r', vmin=1. / n_perm,\n               vmax=.05, over='lightgray')\n\nplt.subplot(133)\nplt.hist(surro_max, bins=20)\nplt.title('Corrected distribution of surrogates')\nplt.axvline(xpac_smean, lw=2, color='red')\n\nplt.tight_layout()\np.show()"
      ]
    }
  ],
  "metadata": {
    "kernelspec": {
      "display_name": "Python 3",
      "language": "python",
      "name": "python3"
    },
    "language_info": {
      "codemirror_mode": {
        "name": "ipython",
        "version": 3
      },
      "file_extension": ".py",
      "mimetype": "text/x-python",
      "name": "python",
      "nbconvert_exporter": "python",
      "pygments_lexer": "ipython3",
      "version": "3.6.12"
    }
  },
  "nbformat": 4,
  "nbformat_minor": 0
}