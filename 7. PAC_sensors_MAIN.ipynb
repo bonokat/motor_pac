{
 "cells": [
  {
   "cell_type": "markdown",
   "metadata": {},
   "source": [
    "# PAC"
   ]
  },
  {
   "cell_type": "markdown",
   "metadata": {},
   "source": [
    "PAC analysis for sensorimotor and frontal areas\n",
    "\n",
    "All epochs are analysed"
   ]
  },
  {
   "cell_type": "code",
   "execution_count": 1,
   "metadata": {},
   "outputs": [],
   "source": [
    "import mne\n",
    "import os\n",
    "from utils import check_paths\n",
    "import numpy as np\n",
    "import pandas as pd\n",
    "import pickle\n",
    "from scipy.io import loadmat\n",
    "\n",
    "from tensorpac import Pac, EventRelatedPac, PreferredPhase\n",
    "from tensorpac.utils import PeakLockedTF, PSD, ITC, BinAmplitude\n",
    "\n",
    "\n",
    "\n",
    "import matplotlib.pyplot as plt\n",
    "%matplotlib qt"
   ]
  },
  {
   "cell_type": "code",
   "execution_count": null,
   "metadata": {},
   "outputs": [
    {
     "name": "stdout",
     "output_type": "stream",
     "text": [
      "Reading D:\\BonoKat\\research project\\# study 1\\eeg_data\\set\\Y group\\ALL_subs_MAIN_epochs_go_adaptation_ALL-epo.fif ...\n",
      "    Read a total of 1 projection items:\n",
      "        Average EEG reference (1 x 60) active\n",
      "    Found the data of interest:\n",
      "        t =    -500.00 ...     700.00 ms\n",
      "        0 CTF compensation matrices available\n",
      "Adding metadata with 16 columns\n",
      "2835 matching events found\n",
      "No baseline correction applied\n",
      "Created an SSP operator (subspace dimension = 1)\n",
      "1 projection items activated\n"
     ]
    },
    {
     "data": {
      "text/html": [
       "<script type=\"text/javascript\">\n",
       "    const toggleVisibility = (className) => {\n",
       "\n",
       "  const elements = document.querySelectorAll(`.${className}`)\n",
       "\n",
       "  elements.forEach(element => {\n",
       "    if (element.classList.contains('repr-section-header')) {\n",
       "      // Don't collapse the section header row.\n",
       "       return\n",
       "    }\n",
       "    if (element.classList.contains('repr-element-collapsed')) {\n",
       "      // Force a reflow to ensure the display change takes effect before removing the class\n",
       "      element.classList.remove('repr-element-collapsed')\n",
       "      element.offsetHeight // This forces the browser to recalculate layout\n",
       "      element.classList.remove('repr-element-faded')\n",
       "    } else {\n",
       "      // Start transition to hide the element\n",
       "      element.classList.add('repr-element-faded')\n",
       "      element.addEventListener('transitionend', handler = (e) => {\n",
       "        if (e.propertyName === 'opacity' && getComputedStyle(element).opacity === '0.2') {\n",
       "          element.classList.add('repr-element-collapsed')\n",
       "          element.removeEventListener('transitionend', handler)\n",
       "        }\n",
       "      });\n",
       "    }\n",
       "  });\n",
       "\n",
       "  // Take care of button (adjust caret)\n",
       "  const button = document.querySelectorAll(`.repr-section-header.${className} > th.repr-section-toggle-col > button`)[0]\n",
       "  button.classList.toggle('collapsed')\n",
       "\n",
       "  // Take care of the tooltip of the section header row\n",
       "  const sectionHeaderRow = document.querySelectorAll(`tr.repr-section-header.${className}`)[0]\n",
       "  sectionHeaderRow.classList.toggle('collapsed')\n",
       "  sectionHeaderRow.title = sectionHeaderRow.title === 'Hide section' ? 'Show section' : 'Hide section'\n",
       "}\n",
       "</script>\n",
       "\n",
       "<style type=\"text/css\">\n",
       "    table.repr.table.table-hover.table-striped.table-sm.table-responsive.small {\n",
       "  /* Don't make rows wider than they need to be. */\n",
       "  display: inline;\n",
       "}\n",
       "\n",
       "table > tbody > tr.repr-element > td {\n",
       "  /* Apply a tighter layout to the table cells. */\n",
       "  padding-top: 0.1rem;\n",
       "  padding-bottom: 0.1rem;\n",
       "  padding-right: 1rem;\n",
       "}\n",
       "\n",
       "table > tbody > tr > td.repr-section-toggle-col {\n",
       "  /* Remove background and border of the first cell in every row\n",
       "     (this row is only used for the collapse / uncollapse caret)\n",
       "\n",
       "     TODO: Need to find a good solution for VS Code that works in both\n",
       "           light and dark mode. */\n",
       "  border-color: transparent;\n",
       "  --bs-table-accent-bg: transparent;\n",
       "}\n",
       "\n",
       "tr.repr-section-header {\n",
       "  /* Remove stripes from section header rows */\n",
       "  background-color: transparent;\n",
       "  border-color: transparent;\n",
       "  --bs-table-striped-bg: transparent;\n",
       "  cursor: pointer;\n",
       "}\n",
       "\n",
       "tr.repr-section-header > th {\n",
       "  text-align: left !important;\n",
       "  vertical-align: middle;\n",
       "}\n",
       "\n",
       ".repr-element, tr.repr-element > td {\n",
       "  opacity: 1;\n",
       "  text-align: left !important;\n",
       "}\n",
       "\n",
       ".repr-element-faded {\n",
       "  transition: 0.3s ease;\n",
       "  opacity: 0.2;\n",
       "}\n",
       "\n",
       ".repr-element-collapsed {\n",
       "  display: none;\n",
       "}\n",
       "\n",
       "/* Collapse / uncollapse button and the caret it contains. */\n",
       ".repr-section-toggle-col button {\n",
       "  cursor: pointer;\n",
       "  width: 1rem;\n",
       "  background-color: transparent;\n",
       "  border-color: transparent;\n",
       "}\n",
       "\n",
       "span.collapse-uncollapse-caret {\n",
       "  width: 1rem;\n",
       "  height: 1rem;\n",
       "  display: block;\n",
       "  background-repeat: no-repeat;\n",
       "  background-position: left;\n",
       "  background-size: contain;\n",
       "}\n",
       "\n",
       "/* The collapse / uncollapse carets were copied from the free Font Awesome collection and adjusted. */\n",
       "\n",
       "/* Default to black carets for light mode */\n",
       ".repr-section-toggle-col > button.collapsed > span.collapse-uncollapse-caret {\n",
       "  background-image: url('data:image/svg+xml;charset=utf8,<svg xmlns=\"http://www.w3.org/2000/svg\" viewBox=\"0 0 256 512\"><!--!Font Awesome Free 6.5.2 by @fontawesome - https://fontawesome.com License - https://fontawesome.com/license/free Copyright 2024 Fonticons, Inc.--><path fill=\"black\" d=\"M246.6 278.6c12.5-12.5 12.5-32.8 0-45.3l-128-128c-9.2-9.2-22.9-11.9-34.9-6.9s-19.8 16.6-19.8 29.6l0 256c0 12.9 7.8 24.6 19.8 29.6s25.7 2.2 34.9-6.9l128-128z\"/></svg>');\n",
       "}\n",
       "\n",
       ".repr-section-toggle-col\n",
       "  > button:not(.collapsed)\n",
       "  > span.collapse-uncollapse-caret {\n",
       "  background-image: url('data:image/svg+xml;charset=utf8,<svg xmlns=\"http://www.w3.org/2000/svg\" viewBox=\"0 0 320 512\"><!--!Font Awesome Free 6.5.2 by @fontawesome - https://fontawesome.com License - https://fontawesome.com/license/free Copyright 2024 Fonticons, Inc.--><path fill=\"black\" d=\"M137.4 374.6c12.5 12.5 32.8 12.5 45.3 0l128-128c9.2-9.2 11.9-22.9 6.9-34.9s-16.6-19.8-29.6-19.8L32 192c-12.9 0-24.6 7.8-29.6 19.8s-2.2 25.7 6.9 34.9l128 128z\"/></svg>');\n",
       "}\n",
       "\n",
       "/* Use white carets for dark mode */\n",
       "@media (prefers-color-scheme: dark) {\n",
       "  .repr-section-toggle-col > button.collapsed > span.collapse-uncollapse-caret {\n",
       "    background-image: url('data:image/svg+xml;charset=utf8,<svg xmlns=\"http://www.w3.org/2000/svg\" viewBox=\"0 0 256 512\"><!--!Font Awesome Free 6.5.2 by @fontawesome - https://fontawesome.com License - https://fontawesome.com/license/free Copyright 2024 Fonticons, Inc.--><path fill=\"white\" d=\"M246.6 278.6c12.5-12.5 12.5-32.8 0-45.3l-128-128c-9.2-9.2-22.9-11.9-34.9-6.9s-19.8 16.6-19.8 29.6l0 256c0 12.9 7.8 24.6 19.8 29.6s25.7 2.2 34.9-6.9l128-128z\"/></svg>');\n",
       "  }\n",
       "\n",
       "  .repr-section-toggle-col\n",
       "    > button:not(.collapsed)\n",
       "    > span.collapse-uncollapse-caret {\n",
       "    background-image: url('data:image/svg+xml;charset=utf8,<svg xmlns=\"http://www.w3.org/2000/svg\" viewBox=\"0 0 320 512\"><!--!Font Awesome Free 6.5.2 by @fontawesome - https://fontawesome.com License - https://fontawesome.com/license/free Copyright 2024 Fonticons, Inc.--><path fill=\"white\" d=\"M137.4 374.6c12.5 12.5 32.8 12.5 45.3 0l128-128c9.2-9.2 11.9-22.9 6.9-34.9s-16.6-19.8-29.6-19.8L32 192c-12.9 0-24.6 7.8-29.6 19.8s-2.2 25.7 6.9 34.9l128 128z\"/></svg>');\n",
       "  }\n",
       "}\n",
       "\n",
       ".channel-names-btn {\n",
       "  padding: 0;\n",
       "  border: none;\n",
       "  background: none;\n",
       "  text-decoration: underline;\n",
       "  text-decoration-style: dashed;\n",
       "  cursor: pointer;\n",
       "  color: #0d6efd;\n",
       "}\n",
       "\n",
       ".channel-names-btn:hover {\n",
       "  color: #0a58ca;\n",
       "}\n",
       "</style>\n",
       "\n",
       "\n",
       "\n",
       "<table class=\"repr table table-hover table-striped table-sm table-responsive small\">\n",
       "    \n",
       "\n",
       "\n",
       "\n",
       "\n",
       "\n",
       "\n",
       "\n",
       "<tr class=\"repr-section-header general-716dc18a-d59d-4c9f-ab5d-d920b22e5b8c\"  title=\"Hide section\" \n",
       "    onclick=\"toggleVisibility('general-716dc18a-d59d-4c9f-ab5d-d920b22e5b8c')\">\n",
       "    <th class=\"repr-section-toggle-col\">\n",
       "        <button>\n",
       "            \n",
       "            <span class=\"collapse-uncollapse-caret\"></span>\n",
       "        </button>\n",
       "    </th>\n",
       "    <th colspan=\"2\">\n",
       "        <strong>General</strong>\n",
       "    </th>\n",
       "</tr>\n",
       "\n",
       "<tr class=\"repr-element general-716dc18a-d59d-4c9f-ab5d-d920b22e5b8c \">\n",
       "    <td class=\"repr-section-toggle-col\"></td>\n",
       "    <td>Filename(s)</td>\n",
       "    <td>\n",
       "        \n",
       "        ALL_subs_MAIN_epochs_go_adaptation_ALL-epo.fif\n",
       "        \n",
       "        \n",
       "    </td>\n",
       "</tr>\n",
       "\n",
       "<tr class=\"repr-element general-716dc18a-d59d-4c9f-ab5d-d920b22e5b8c \">\n",
       "    <td class=\"repr-section-toggle-col\"></td>\n",
       "    <td>MNE object type</td>\n",
       "    <td>EpochsFIF</td>\n",
       "</tr>\n",
       "<tr class=\"repr-element general-716dc18a-d59d-4c9f-ab5d-d920b22e5b8c \">\n",
       "    <td class=\"repr-section-toggle-col\"></td>\n",
       "    <td>Measurement date</td>\n",
       "    \n",
       "    <td>Unknown</td>\n",
       "    \n",
       "</tr>\n",
       "<tr class=\"repr-element general-716dc18a-d59d-4c9f-ab5d-d920b22e5b8c \">\n",
       "    <td class=\"repr-section-toggle-col\"></td>\n",
       "    <td>Participant</td>\n",
       "    \n",
       "    <td>Unknown</td>\n",
       "    \n",
       "</tr>\n",
       "<tr class=\"repr-element general-716dc18a-d59d-4c9f-ab5d-d920b22e5b8c \">\n",
       "    <td class=\"repr-section-toggle-col\"></td>\n",
       "    <td>Experimenter</td>\n",
       "    \n",
       "    <td>Unknown</td>\n",
       "    \n",
       "</tr>\n",
       "    \n",
       "\n",
       "\n",
       "\n",
       "\n",
       "\n",
       "\n",
       "\n",
       "<tr class=\"repr-section-header acquisition-33afeb6f-495f-447d-90c9-c403be26c145\" \n",
       "    title=\"Hide section\"  onclick=\"toggleVisibility('acquisition-33afeb6f-495f-447d-90c9-c403be26c145')\">\n",
       "    <th class=\"repr-section-toggle-col\">\n",
       "        <button>\n",
       "            \n",
       "            <span class=\"collapse-uncollapse-caret\"></span>\n",
       "        </button>\n",
       "    </th>\n",
       "    <th colspan=\"2\">\n",
       "        <strong>Acquisition</strong>\n",
       "    </th>\n",
       "</tr>\n",
       "\n",
       "\n",
       "\n",
       "\n",
       "<tr class=\"repr-element acquisition-33afeb6f-495f-447d-90c9-c403be26c145 \">\n",
       "    <td class=\"repr-section-toggle-col\"></td>\n",
       "    <td>Total number of events</td>\n",
       "    <td>2835</td>\n",
       "</tr>\n",
       "\n",
       "\n",
       "<tr class=\"repr-element acquisition-33afeb6f-495f-447d-90c9-c403be26c145 \">\n",
       "    <td class=\"repr-section-toggle-col\"></td>\n",
       "    <td>Events counts</td>\n",
       "    \n",
       "    <td>\n",
       "        \n",
       "        go_on: 2835\n",
       "        \n",
       "        \n",
       "    </td>\n",
       "    \n",
       "</tr>\n",
       "\n",
       "\n",
       "<tr class=\"repr-element acquisition-33afeb6f-495f-447d-90c9-c403be26c145 \">\n",
       "    <td class=\"repr-section-toggle-col\"></td>\n",
       "    <td>Time range</td>\n",
       "    <td>-0.500 – 0.700 s</td>\n",
       "</tr>\n",
       "\n",
       "\n",
       "<tr class=\"repr-element acquisition-33afeb6f-495f-447d-90c9-c403be26c145 \">\n",
       "    <td class=\"repr-section-toggle-col\"></td>\n",
       "    <td>Baseline</td>\n",
       "    <td>-0.500 – 0.700 s</td>\n",
       "</tr>\n",
       "\n",
       "\n",
       "<tr class=\"repr-element acquisition-33afeb6f-495f-447d-90c9-c403be26c145 \">\n",
       "    <td class=\"repr-section-toggle-col\"></td>\n",
       "    <td>Sampling frequency</td>\n",
       "    <td>500.00 Hz</td>\n",
       "</tr>\n",
       "\n",
       "\n",
       "<tr class=\"repr-element acquisition-33afeb6f-495f-447d-90c9-c403be26c145 \">\n",
       "    <td class=\"repr-section-toggle-col\"></td>\n",
       "    <td>Time points</td>\n",
       "    <td>601</td>\n",
       "</tr>\n",
       "\n",
       "\n",
       "<tr class=\"repr-element acquisition-33afeb6f-495f-447d-90c9-c403be26c145 \">\n",
       "    <td class=\"repr-section-toggle-col\"></td>\n",
       "    <td>Metadata</td>\n",
       "    <td>2835 rows × 16 columns</td>\n",
       "</tr>\n",
       "\n",
       "    \n",
       "\n",
       "\n",
       "\n",
       "\n",
       "\n",
       "\n",
       "\n",
       "<tr class=\"repr-section-header channels-630d87df-963a-4050-8f3d-0c77c449ce24\"  title=\"Hide section\" \n",
       "    onclick=\"toggleVisibility('channels-630d87df-963a-4050-8f3d-0c77c449ce24')\">\n",
       "    <th class=\"repr-section-toggle-col\">\n",
       "        <button>\n",
       "            \n",
       "            <span class=\"collapse-uncollapse-caret\"></span>\n",
       "        </button>\n",
       "    </th>\n",
       "    <th colspan=\"2\">\n",
       "        <strong>Channels</strong>\n",
       "    </th>\n",
       "</tr>\n",
       "\n",
       "\n",
       "<tr class=\"repr-element channels-630d87df-963a-4050-8f3d-0c77c449ce24 \">\n",
       "    <td class=\"repr-section-toggle-col\"></td>\n",
       "    <td>EEG</td>\n",
       "    <td>\n",
       "        <button class=\"channel-names-btn\" onclick=\"alert('Good EEG:\\n\\nFp1, Fp2, F3, F4, C3, C4, P3, P4, O1, O2, F7, F8, T7, T8, P7, P8, Fz, Cz, Pz, Iz, FC1, FC2, CP1, CP2, FC5, FC6, CP5, CP6, F1, F2, C1, C2, P1, P2, AF3, AF4, FC3, FC4, CP3, CP4, PO3, PO4, F5, F6, C5, C6, P5, P6, AF7, AF8, FT7, FT8, TP7, TP8, PO7, PO8, Fpz, CPz, POz, Oz')\" title=\"(Click to open in popup)&#13;&#13;Fp1, Fp2, F3, F4, C3, C4, P3, P4, O1, O2, F7, F8, T7, T8, P7, P8, Fz, Cz, Pz, Iz, FC1, FC2, CP1, CP2, FC5, FC6, CP5, CP6, F1, F2, C1, C2, P1, P2, AF3, AF4, FC3, FC4, CP3, CP4, PO3, PO4, F5, F6, C5, C6, P5, P6, AF7, AF8, FT7, FT8, TP7, TP8, PO7, PO8, Fpz, CPz, POz, Oz\">\n",
       "            60\n",
       "        </button>\n",
       "\n",
       "        \n",
       "    </td>\n",
       "</tr>\n",
       "\n",
       "\n",
       "<tr class=\"repr-element channels-630d87df-963a-4050-8f3d-0c77c449ce24 \">\n",
       "    <td class=\"repr-section-toggle-col\"></td>\n",
       "    <td>Stimulus</td>\n",
       "    <td>\n",
       "        <button class=\"channel-names-btn\" onclick=\"alert('Good Stimulus:\\n\\nBIP3')\" title=\"(Click to open in popup)&#13;&#13;BIP3\">\n",
       "            1\n",
       "        </button>\n",
       "\n",
       "        \n",
       "    </td>\n",
       "</tr>\n",
       "\n",
       "\n",
       "<tr class=\"repr-element channels-630d87df-963a-4050-8f3d-0c77c449ce24 \">\n",
       "    <td class=\"repr-section-toggle-col\"></td>\n",
       "    <td>Head & sensor digitization</td>\n",
       "    \n",
       "    <td>63 points</td>\n",
       "    \n",
       "</tr>\n",
       "    \n",
       "\n",
       "\n",
       "\n",
       "\n",
       "\n",
       "\n",
       "\n",
       "<tr class=\"repr-section-header filters-023124be-8340-424a-9971-f123734c3208\"  title=\"Hide section\" \n",
       "    onclick=\"toggleVisibility('filters-023124be-8340-424a-9971-f123734c3208')\">\n",
       "    <th class=\"repr-section-toggle-col\">\n",
       "        <button>\n",
       "            \n",
       "            <span class=\"collapse-uncollapse-caret\"></span>\n",
       "        </button>\n",
       "    </th>\n",
       "    <th colspan=\"2\">\n",
       "        <strong>Filters</strong>\n",
       "    </th>\n",
       "</tr>\n",
       "\n",
       "<tr class=\"repr-element filters-023124be-8340-424a-9971-f123734c3208 \">\n",
       "    <td class=\"repr-section-toggle-col\"></td>\n",
       "    <td>Highpass</td>\n",
       "    <td>0.50 Hz</td>\n",
       "</tr>\n",
       "\n",
       "\n",
       "<tr class=\"repr-element filters-023124be-8340-424a-9971-f123734c3208 \">\n",
       "    <td class=\"repr-section-toggle-col\"></td>\n",
       "    <td>Lowpass</td>\n",
       "    <td>80.00 Hz</td>\n",
       "</tr>\n",
       "\n",
       "\n",
       "<tr class=\"repr-element filters-023124be-8340-424a-9971-f123734c3208 \">\n",
       "    <td class=\"repr-section-toggle-col\"></td>\n",
       "    <td>Projections</td>\n",
       "    <td>\n",
       "        \n",
       "        Average EEG reference (on)\n",
       "        \n",
       "        \n",
       "    </td>\n",
       "</tr>\n",
       "\n",
       "</table>"
      ],
      "text/plain": [
       "<EpochsFIF | 2835 events (all good), -0.5 – 0.7 s (baseline -0.5 – 0.7 s), ~793.0 MB, data loaded, with metadata,\n",
       " 'go_on': 2835>"
      ]
     },
     "execution_count": 36,
     "metadata": {},
     "output_type": "execute_result"
    }
   ],
   "source": [
    "eeg_data_dir = 'D:\\\\BonoKat\\\\research project\\\\# study 1\\\\eeg_data\\\\set'\n",
    "group_save_path = 'D:\\\\BonoKat\\\\research project\\\\# study 1\\\\eeg_data\\\\set\\\\Y group'\n",
    "sub_name = 'ALL_subs'\n",
    "task = '_MAIN' # ['_BL', '_MAIN']\n",
    "block_name = '_adaptation' # ['_baseline', '_adaptation']\n",
    "task_stage = '_go' # '_plan' or '_go'\n",
    "epochs_all_subs = mne.read_epochs(os.path.join(group_save_path, f\"{sub_name}{task}_epochs{task_stage}{block_name}_ALL-epo.fif\"), preload=True)\n",
    "epochs_all_subs"
   ]
  },
  {
   "cell_type": "code",
   "execution_count": 37,
   "metadata": {},
   "outputs": [],
   "source": [
    "pac_figs_dir = os.path.join(eeg_data_dir, 'figures', 'PAC', task, block_name, 'NEW')\n",
    "check_paths(pac_figs_dir)\n",
    "pac_dir = os.path.join('D:\\\\BonoKat\\\\research project\\\\# study 1\\\\eeg_data\\\\set\\\\Y group', 'PAC', task, task_stage, block_name)\n",
    "check_paths(pac_dir)"
   ]
  },
  {
   "cell_type": "code",
   "execution_count": 38,
   "metadata": {},
   "outputs": [
    {
     "data": {
      "text/html": [
       "<script type=\"text/javascript\">\n",
       "    const toggleVisibility = (className) => {\n",
       "\n",
       "  const elements = document.querySelectorAll(`.${className}`)\n",
       "\n",
       "  elements.forEach(element => {\n",
       "    if (element.classList.contains('repr-section-header')) {\n",
       "      // Don't collapse the section header row.\n",
       "       return\n",
       "    }\n",
       "    if (element.classList.contains('repr-element-collapsed')) {\n",
       "      // Force a reflow to ensure the display change takes effect before removing the class\n",
       "      element.classList.remove('repr-element-collapsed')\n",
       "      element.offsetHeight // This forces the browser to recalculate layout\n",
       "      element.classList.remove('repr-element-faded')\n",
       "    } else {\n",
       "      // Start transition to hide the element\n",
       "      element.classList.add('repr-element-faded')\n",
       "      element.addEventListener('transitionend', handler = (e) => {\n",
       "        if (e.propertyName === 'opacity' && getComputedStyle(element).opacity === '0.2') {\n",
       "          element.classList.add('repr-element-collapsed')\n",
       "          element.removeEventListener('transitionend', handler)\n",
       "        }\n",
       "      });\n",
       "    }\n",
       "  });\n",
       "\n",
       "  // Take care of button (adjust caret)\n",
       "  const button = document.querySelectorAll(`.repr-section-header.${className} > th.repr-section-toggle-col > button`)[0]\n",
       "  button.classList.toggle('collapsed')\n",
       "\n",
       "  // Take care of the tooltip of the section header row\n",
       "  const sectionHeaderRow = document.querySelectorAll(`tr.repr-section-header.${className}`)[0]\n",
       "  sectionHeaderRow.classList.toggle('collapsed')\n",
       "  sectionHeaderRow.title = sectionHeaderRow.title === 'Hide section' ? 'Show section' : 'Hide section'\n",
       "}\n",
       "</script>\n",
       "\n",
       "<style type=\"text/css\">\n",
       "    table.repr.table.table-hover.table-striped.table-sm.table-responsive.small {\n",
       "  /* Don't make rows wider than they need to be. */\n",
       "  display: inline;\n",
       "}\n",
       "\n",
       "table > tbody > tr.repr-element > td {\n",
       "  /* Apply a tighter layout to the table cells. */\n",
       "  padding-top: 0.1rem;\n",
       "  padding-bottom: 0.1rem;\n",
       "  padding-right: 1rem;\n",
       "}\n",
       "\n",
       "table > tbody > tr > td.repr-section-toggle-col {\n",
       "  /* Remove background and border of the first cell in every row\n",
       "     (this row is only used for the collapse / uncollapse caret)\n",
       "\n",
       "     TODO: Need to find a good solution for VS Code that works in both\n",
       "           light and dark mode. */\n",
       "  border-color: transparent;\n",
       "  --bs-table-accent-bg: transparent;\n",
       "}\n",
       "\n",
       "tr.repr-section-header {\n",
       "  /* Remove stripes from section header rows */\n",
       "  background-color: transparent;\n",
       "  border-color: transparent;\n",
       "  --bs-table-striped-bg: transparent;\n",
       "  cursor: pointer;\n",
       "}\n",
       "\n",
       "tr.repr-section-header > th {\n",
       "  text-align: left !important;\n",
       "  vertical-align: middle;\n",
       "}\n",
       "\n",
       ".repr-element, tr.repr-element > td {\n",
       "  opacity: 1;\n",
       "  text-align: left !important;\n",
       "}\n",
       "\n",
       ".repr-element-faded {\n",
       "  transition: 0.3s ease;\n",
       "  opacity: 0.2;\n",
       "}\n",
       "\n",
       ".repr-element-collapsed {\n",
       "  display: none;\n",
       "}\n",
       "\n",
       "/* Collapse / uncollapse button and the caret it contains. */\n",
       ".repr-section-toggle-col button {\n",
       "  cursor: pointer;\n",
       "  width: 1rem;\n",
       "  background-color: transparent;\n",
       "  border-color: transparent;\n",
       "}\n",
       "\n",
       "span.collapse-uncollapse-caret {\n",
       "  width: 1rem;\n",
       "  height: 1rem;\n",
       "  display: block;\n",
       "  background-repeat: no-repeat;\n",
       "  background-position: left;\n",
       "  background-size: contain;\n",
       "}\n",
       "\n",
       "/* The collapse / uncollapse carets were copied from the free Font Awesome collection and adjusted. */\n",
       "\n",
       "/* Default to black carets for light mode */\n",
       ".repr-section-toggle-col > button.collapsed > span.collapse-uncollapse-caret {\n",
       "  background-image: url('data:image/svg+xml;charset=utf8,<svg xmlns=\"http://www.w3.org/2000/svg\" viewBox=\"0 0 256 512\"><!--!Font Awesome Free 6.5.2 by @fontawesome - https://fontawesome.com License - https://fontawesome.com/license/free Copyright 2024 Fonticons, Inc.--><path fill=\"black\" d=\"M246.6 278.6c12.5-12.5 12.5-32.8 0-45.3l-128-128c-9.2-9.2-22.9-11.9-34.9-6.9s-19.8 16.6-19.8 29.6l0 256c0 12.9 7.8 24.6 19.8 29.6s25.7 2.2 34.9-6.9l128-128z\"/></svg>');\n",
       "}\n",
       "\n",
       ".repr-section-toggle-col\n",
       "  > button:not(.collapsed)\n",
       "  > span.collapse-uncollapse-caret {\n",
       "  background-image: url('data:image/svg+xml;charset=utf8,<svg xmlns=\"http://www.w3.org/2000/svg\" viewBox=\"0 0 320 512\"><!--!Font Awesome Free 6.5.2 by @fontawesome - https://fontawesome.com License - https://fontawesome.com/license/free Copyright 2024 Fonticons, Inc.--><path fill=\"black\" d=\"M137.4 374.6c12.5 12.5 32.8 12.5 45.3 0l128-128c9.2-9.2 11.9-22.9 6.9-34.9s-16.6-19.8-29.6-19.8L32 192c-12.9 0-24.6 7.8-29.6 19.8s-2.2 25.7 6.9 34.9l128 128z\"/></svg>');\n",
       "}\n",
       "\n",
       "/* Use white carets for dark mode */\n",
       "@media (prefers-color-scheme: dark) {\n",
       "  .repr-section-toggle-col > button.collapsed > span.collapse-uncollapse-caret {\n",
       "    background-image: url('data:image/svg+xml;charset=utf8,<svg xmlns=\"http://www.w3.org/2000/svg\" viewBox=\"0 0 256 512\"><!--!Font Awesome Free 6.5.2 by @fontawesome - https://fontawesome.com License - https://fontawesome.com/license/free Copyright 2024 Fonticons, Inc.--><path fill=\"white\" d=\"M246.6 278.6c12.5-12.5 12.5-32.8 0-45.3l-128-128c-9.2-9.2-22.9-11.9-34.9-6.9s-19.8 16.6-19.8 29.6l0 256c0 12.9 7.8 24.6 19.8 29.6s25.7 2.2 34.9-6.9l128-128z\"/></svg>');\n",
       "  }\n",
       "\n",
       "  .repr-section-toggle-col\n",
       "    > button:not(.collapsed)\n",
       "    > span.collapse-uncollapse-caret {\n",
       "    background-image: url('data:image/svg+xml;charset=utf8,<svg xmlns=\"http://www.w3.org/2000/svg\" viewBox=\"0 0 320 512\"><!--!Font Awesome Free 6.5.2 by @fontawesome - https://fontawesome.com License - https://fontawesome.com/license/free Copyright 2024 Fonticons, Inc.--><path fill=\"white\" d=\"M137.4 374.6c12.5 12.5 32.8 12.5 45.3 0l128-128c9.2-9.2 11.9-22.9 6.9-34.9s-16.6-19.8-29.6-19.8L32 192c-12.9 0-24.6 7.8-29.6 19.8s-2.2 25.7 6.9 34.9l128 128z\"/></svg>');\n",
       "  }\n",
       "}\n",
       "\n",
       ".channel-names-btn {\n",
       "  padding: 0;\n",
       "  border: none;\n",
       "  background: none;\n",
       "  text-decoration: underline;\n",
       "  text-decoration-style: dashed;\n",
       "  cursor: pointer;\n",
       "  color: #0d6efd;\n",
       "}\n",
       "\n",
       ".channel-names-btn:hover {\n",
       "  color: #0a58ca;\n",
       "}\n",
       "</style>\n",
       "\n",
       "\n",
       "\n",
       "<table class=\"repr table table-hover table-striped table-sm table-responsive small\">\n",
       "    \n",
       "\n",
       "\n",
       "\n",
       "\n",
       "\n",
       "\n",
       "\n",
       "<tr class=\"repr-section-header general-daceee23-8882-442d-8deb-c39bde4333e5\"  title=\"Hide section\" \n",
       "    onclick=\"toggleVisibility('general-daceee23-8882-442d-8deb-c39bde4333e5')\">\n",
       "    <th class=\"repr-section-toggle-col\">\n",
       "        <button>\n",
       "            \n",
       "            <span class=\"collapse-uncollapse-caret\"></span>\n",
       "        </button>\n",
       "    </th>\n",
       "    <th colspan=\"2\">\n",
       "        <strong>General</strong>\n",
       "    </th>\n",
       "</tr>\n",
       "\n",
       "<tr class=\"repr-element general-daceee23-8882-442d-8deb-c39bde4333e5 \">\n",
       "    <td class=\"repr-section-toggle-col\"></td>\n",
       "    <td>Filename(s)</td>\n",
       "    <td>\n",
       "        \n",
       "        ALL_subs_MAIN_epochs_go_adaptation_ALL-epo.fif\n",
       "        \n",
       "        \n",
       "    </td>\n",
       "</tr>\n",
       "\n",
       "<tr class=\"repr-element general-daceee23-8882-442d-8deb-c39bde4333e5 \">\n",
       "    <td class=\"repr-section-toggle-col\"></td>\n",
       "    <td>MNE object type</td>\n",
       "    <td>EpochsFIF</td>\n",
       "</tr>\n",
       "<tr class=\"repr-element general-daceee23-8882-442d-8deb-c39bde4333e5 \">\n",
       "    <td class=\"repr-section-toggle-col\"></td>\n",
       "    <td>Measurement date</td>\n",
       "    \n",
       "    <td>Unknown</td>\n",
       "    \n",
       "</tr>\n",
       "<tr class=\"repr-element general-daceee23-8882-442d-8deb-c39bde4333e5 \">\n",
       "    <td class=\"repr-section-toggle-col\"></td>\n",
       "    <td>Participant</td>\n",
       "    \n",
       "    <td>Unknown</td>\n",
       "    \n",
       "</tr>\n",
       "<tr class=\"repr-element general-daceee23-8882-442d-8deb-c39bde4333e5 \">\n",
       "    <td class=\"repr-section-toggle-col\"></td>\n",
       "    <td>Experimenter</td>\n",
       "    \n",
       "    <td>Unknown</td>\n",
       "    \n",
       "</tr>\n",
       "    \n",
       "\n",
       "\n",
       "\n",
       "\n",
       "\n",
       "\n",
       "\n",
       "<tr class=\"repr-section-header acquisition-b4f6c0b3-33cb-45c1-b386-24f2c2d48bf4\" \n",
       "    title=\"Hide section\"  onclick=\"toggleVisibility('acquisition-b4f6c0b3-33cb-45c1-b386-24f2c2d48bf4')\">\n",
       "    <th class=\"repr-section-toggle-col\">\n",
       "        <button>\n",
       "            \n",
       "            <span class=\"collapse-uncollapse-caret\"></span>\n",
       "        </button>\n",
       "    </th>\n",
       "    <th colspan=\"2\">\n",
       "        <strong>Acquisition</strong>\n",
       "    </th>\n",
       "</tr>\n",
       "\n",
       "\n",
       "\n",
       "\n",
       "<tr class=\"repr-element acquisition-b4f6c0b3-33cb-45c1-b386-24f2c2d48bf4 \">\n",
       "    <td class=\"repr-section-toggle-col\"></td>\n",
       "    <td>Total number of events</td>\n",
       "    <td>2835</td>\n",
       "</tr>\n",
       "\n",
       "\n",
       "<tr class=\"repr-element acquisition-b4f6c0b3-33cb-45c1-b386-24f2c2d48bf4 \">\n",
       "    <td class=\"repr-section-toggle-col\"></td>\n",
       "    <td>Events counts</td>\n",
       "    \n",
       "    <td>\n",
       "        \n",
       "        go_on: 2835\n",
       "        \n",
       "        \n",
       "    </td>\n",
       "    \n",
       "</tr>\n",
       "\n",
       "\n",
       "<tr class=\"repr-element acquisition-b4f6c0b3-33cb-45c1-b386-24f2c2d48bf4 \">\n",
       "    <td class=\"repr-section-toggle-col\"></td>\n",
       "    <td>Time range</td>\n",
       "    <td>-0.500 – 0.700 s</td>\n",
       "</tr>\n",
       "\n",
       "\n",
       "<tr class=\"repr-element acquisition-b4f6c0b3-33cb-45c1-b386-24f2c2d48bf4 \">\n",
       "    <td class=\"repr-section-toggle-col\"></td>\n",
       "    <td>Baseline</td>\n",
       "    <td>-0.500 – 0.700 s</td>\n",
       "</tr>\n",
       "\n",
       "\n",
       "<tr class=\"repr-element acquisition-b4f6c0b3-33cb-45c1-b386-24f2c2d48bf4 \">\n",
       "    <td class=\"repr-section-toggle-col\"></td>\n",
       "    <td>Sampling frequency</td>\n",
       "    <td>500.00 Hz</td>\n",
       "</tr>\n",
       "\n",
       "\n",
       "<tr class=\"repr-element acquisition-b4f6c0b3-33cb-45c1-b386-24f2c2d48bf4 \">\n",
       "    <td class=\"repr-section-toggle-col\"></td>\n",
       "    <td>Time points</td>\n",
       "    <td>601</td>\n",
       "</tr>\n",
       "\n",
       "\n",
       "<tr class=\"repr-element acquisition-b4f6c0b3-33cb-45c1-b386-24f2c2d48bf4 \">\n",
       "    <td class=\"repr-section-toggle-col\"></td>\n",
       "    <td>Metadata</td>\n",
       "    <td>2835 rows × 16 columns</td>\n",
       "</tr>\n",
       "\n",
       "    \n",
       "\n",
       "\n",
       "\n",
       "\n",
       "\n",
       "\n",
       "\n",
       "<tr class=\"repr-section-header channels-8346c26f-ed05-496d-870c-7436646a520c\"  title=\"Hide section\" \n",
       "    onclick=\"toggleVisibility('channels-8346c26f-ed05-496d-870c-7436646a520c')\">\n",
       "    <th class=\"repr-section-toggle-col\">\n",
       "        <button>\n",
       "            \n",
       "            <span class=\"collapse-uncollapse-caret\"></span>\n",
       "        </button>\n",
       "    </th>\n",
       "    <th colspan=\"2\">\n",
       "        <strong>Channels</strong>\n",
       "    </th>\n",
       "</tr>\n",
       "\n",
       "\n",
       "<tr class=\"repr-element channels-8346c26f-ed05-496d-870c-7436646a520c \">\n",
       "    <td class=\"repr-section-toggle-col\"></td>\n",
       "    <td>EEG</td>\n",
       "    <td>\n",
       "        <button class=\"channel-names-btn\" onclick=\"alert('Good EEG:\\n\\nFp1, Fp2, F1, F2, F3, F4, F5, F6, AF3, AF4, AF7, AF8, FC1, FC2, FC3, FC4, FC5, FC6, C1, C2, C3, C4, C5, C6, CP1, CP2, CP3, CP4, CP5, CP6')\" title=\"(Click to open in popup)&#13;&#13;Fp1, Fp2, F1, F2, F3, F4, F5, F6, AF3, AF4, AF7, AF8, FC1, FC2, FC3, FC4, FC5, FC6, C1, C2, C3, C4, C5, C6, CP1, CP2, CP3, CP4, CP5, CP6\">\n",
       "            30\n",
       "        </button>\n",
       "\n",
       "        \n",
       "    </td>\n",
       "</tr>\n",
       "\n",
       "\n",
       "<tr class=\"repr-element channels-8346c26f-ed05-496d-870c-7436646a520c \">\n",
       "    <td class=\"repr-section-toggle-col\"></td>\n",
       "    <td>Head & sensor digitization</td>\n",
       "    \n",
       "    <td>63 points</td>\n",
       "    \n",
       "</tr>\n",
       "    \n",
       "\n",
       "\n",
       "\n",
       "\n",
       "\n",
       "\n",
       "\n",
       "<tr class=\"repr-section-header filters-a02236ae-684f-4c84-a1b5-fb1598e6da33\"  title=\"Hide section\" \n",
       "    onclick=\"toggleVisibility('filters-a02236ae-684f-4c84-a1b5-fb1598e6da33')\">\n",
       "    <th class=\"repr-section-toggle-col\">\n",
       "        <button>\n",
       "            \n",
       "            <span class=\"collapse-uncollapse-caret\"></span>\n",
       "        </button>\n",
       "    </th>\n",
       "    <th colspan=\"2\">\n",
       "        <strong>Filters</strong>\n",
       "    </th>\n",
       "</tr>\n",
       "\n",
       "<tr class=\"repr-element filters-a02236ae-684f-4c84-a1b5-fb1598e6da33 \">\n",
       "    <td class=\"repr-section-toggle-col\"></td>\n",
       "    <td>Highpass</td>\n",
       "    <td>0.50 Hz</td>\n",
       "</tr>\n",
       "\n",
       "\n",
       "<tr class=\"repr-element filters-a02236ae-684f-4c84-a1b5-fb1598e6da33 \">\n",
       "    <td class=\"repr-section-toggle-col\"></td>\n",
       "    <td>Lowpass</td>\n",
       "    <td>80.00 Hz</td>\n",
       "</tr>\n",
       "\n",
       "\n",
       "<tr class=\"repr-element filters-a02236ae-684f-4c84-a1b5-fb1598e6da33 \">\n",
       "    <td class=\"repr-section-toggle-col\"></td>\n",
       "    <td>Projections</td>\n",
       "    <td>\n",
       "        \n",
       "        Average EEG reference (on)\n",
       "        \n",
       "        \n",
       "    </td>\n",
       "</tr>\n",
       "\n",
       "</table>"
      ],
      "text/plain": [
       "<EpochsFIF | 2835 events (all good), -0.5 – 0.7 s (baseline -0.5 – 0.7 s), ~390.0 MB, data loaded, with metadata,\n",
       " 'go_on': 2835>"
      ]
     },
     "execution_count": 38,
     "metadata": {},
     "output_type": "execute_result"
    }
   ],
   "source": [
    "# Extract only EEG channel names from the Epochs object\n",
    "eeg_channel_names = epochs_all_subs.copy().pick(\"eeg\").ch_names\n",
    "# print(eeg_channel_names)\n",
    "\n",
    "# Select sensorimotor channels\n",
    "choi = ['Fp1', 'Fp2', 'F1', 'F2', 'F3', 'F4', 'F5', 'F6', 'AF3', 'AF4', 'AF7', 'AF8',\n",
    "        'FC1', 'FC2', 'FC3', 'FC4', 'FC5', 'FC6', 'C1', 'C2', 'C3', 'C4', 'C5', 'C6', 'CP1', 'CP2', 'CP3', 'CP4', 'CP5', 'CP6']\n",
    "\n",
    "epochs_all_subs.pick(choi)"
   ]
  },
  {
   "cell_type": "code",
   "execution_count": 39,
   "metadata": {},
   "outputs": [],
   "source": [
    "sf = epochs_all_subs.info['sfreq']  # Sampling frequency\n",
    "times = epochs_all_subs.times"
   ]
  },
  {
   "cell_type": "code",
   "execution_count": 40,
   "metadata": {},
   "outputs": [],
   "source": [
    "# set freqs for PAC analysis\n",
    "width, step = 3, .2\n",
    "theta = [3, 9]\n",
    "alpha = [6, 14]\n",
    "lower_gamma = (30, 50, 2, 0.5)\n",
    "higher_gamma = (50, 80, 2, 0.5)"
   ]
  },
  {
   "cell_type": "code",
   "execution_count": null,
   "metadata": {},
   "outputs": [
    {
     "name": "stderr",
     "output_type": "stream",
     "text": [
      "Event Related PAC object defined\n",
      "    Extract phases (n_pha=1) and amplitudes (n_amps=36)\n"
     ]
    },
    {
     "name": "stdout",
     "output_type": "stream",
     "text": [
      "DATA: (n_trials, n_times)=(2835, 601); SAMPLING FREQUENCY=500.0Hz; TIME VECTOR: n_times=601\n",
      "[3, 9]\n"
     ]
    },
    {
     "name": "stderr",
     "output_type": "stream",
     "text": [
      "    Compute Gaussian-Copula ERPAC\n",
      "Phase Amplitude Coupling object defined\n"
     ]
    },
    {
     "name": "stdout",
     "output_type": "stream",
     "text": [
      "(3, 9, 3, 0.2)\n"
     ]
    },
    {
     "name": "stderr",
     "output_type": "stream",
     "text": [
      "    true PAC estimation using Mean Vector Length (MVL, Canolty et al. 2006)\n",
      "    compute surrogates (Swap amplitude time blocks (Bahramisharif et al. 2013), 200 permutations, random_state=2370)\n",
      "    infer p-values at (p=0.05, mcp=maxstat)\n",
      "    normalize true PAC estimation by surrogates (Substract the mean and divide by the deviation of the surrogates)\n",
      "    true PAC estimation using Mean Vector Length (MVL, Canolty et al. 2006)\n",
      "    compute surrogates (Swap amplitude time blocks (Bahramisharif et al. 2013), 200 permutations, random_state=0)\n",
      "    infer p-values at (p=0.05, mcp=maxstat)\n",
      "    normalize true PAC estimation by surrogates (Substract the mean and divide by the deviation of the surrogates)\n",
      "    infer p-values at (p=0.05, mcp=maxstat)\n",
      "C:\\Users\\a1902989\\AppData\\Local\\Temp\\ipykernel_34440\\1975893818.py:93: RuntimeWarning: All-NaN slice encountered\n",
      "  ax = p_obj.comodulogram(pac_prep_s, cmap='Spectral_r', vmin=np.nanmin(pac_prep_s),\n",
      "C:\\Users\\a1902989\\AppData\\Local\\Temp\\ipykernel_34440\\1975893818.py:94: RuntimeWarning: All-NaN slice encountered\n",
      "  vmax=np.nanmax(pac_prep_s), title=title)\n",
      "Event Related PAC object defined\n",
      "    Extract phases (n_pha=1) and amplitudes (n_amps=56)\n"
     ]
    },
    {
     "name": "stdout",
     "output_type": "stream",
     "text": [
      "[6, 14]\n"
     ]
    },
    {
     "name": "stderr",
     "output_type": "stream",
     "text": [
      "    Compute Gaussian-Copula ERPAC\n",
      "Phase Amplitude Coupling object defined\n"
     ]
    },
    {
     "name": "stdout",
     "output_type": "stream",
     "text": [
      "(6, 14, 3, 0.2)\n"
     ]
    },
    {
     "name": "stderr",
     "output_type": "stream",
     "text": [
      "    true PAC estimation using Mean Vector Length (MVL, Canolty et al. 2006)\n",
      "    compute surrogates (Swap amplitude time blocks (Bahramisharif et al. 2013), 200 permutations, random_state=4470)\n",
      "    infer p-values at (p=0.05, mcp=maxstat)\n",
      "    normalize true PAC estimation by surrogates (Substract the mean and divide by the deviation of the surrogates)\n",
      "    true PAC estimation using Mean Vector Length (MVL, Canolty et al. 2006)\n",
      "    compute surrogates (Swap amplitude time blocks (Bahramisharif et al. 2013), 200 permutations, random_state=0)\n",
      "    infer p-values at (p=0.05, mcp=maxstat)\n",
      "    normalize true PAC estimation by surrogates (Substract the mean and divide by the deviation of the surrogates)\n",
      "    infer p-values at (p=0.05, mcp=maxstat)\n",
      "Event Related PAC object defined\n",
      "    Extract phases (n_pha=1) and amplitudes (n_amps=36)\n"
     ]
    },
    {
     "name": "stdout",
     "output_type": "stream",
     "text": [
      "DATA: (n_trials, n_times)=(2835, 601); SAMPLING FREQUENCY=500.0Hz; TIME VECTOR: n_times=601\n",
      "[3, 9]\n"
     ]
    },
    {
     "name": "stderr",
     "output_type": "stream",
     "text": [
      "    Compute Gaussian-Copula ERPAC\n",
      "Phase Amplitude Coupling object defined\n"
     ]
    },
    {
     "name": "stdout",
     "output_type": "stream",
     "text": [
      "(3, 9, 3, 0.2)\n"
     ]
    },
    {
     "name": "stderr",
     "output_type": "stream",
     "text": [
      "    true PAC estimation using Mean Vector Length (MVL, Canolty et al. 2006)\n",
      "    compute surrogates (Swap amplitude time blocks (Bahramisharif et al. 2013), 200 permutations, random_state=4269)\n",
      "    infer p-values at (p=0.05, mcp=maxstat)\n",
      "    normalize true PAC estimation by surrogates (Substract the mean and divide by the deviation of the surrogates)\n",
      "    true PAC estimation using Mean Vector Length (MVL, Canolty et al. 2006)\n",
      "    compute surrogates (Swap amplitude time blocks (Bahramisharif et al. 2013), 200 permutations, random_state=0)\n",
      "    infer p-values at (p=0.05, mcp=maxstat)\n",
      "    normalize true PAC estimation by surrogates (Substract the mean and divide by the deviation of the surrogates)\n",
      "    infer p-values at (p=0.05, mcp=maxstat)\n",
      "Event Related PAC object defined\n",
      "    Extract phases (n_pha=1) and amplitudes (n_amps=56)\n"
     ]
    },
    {
     "name": "stdout",
     "output_type": "stream",
     "text": [
      "[6, 14]\n"
     ]
    },
    {
     "name": "stderr",
     "output_type": "stream",
     "text": [
      "    Compute Gaussian-Copula ERPAC\n",
      "Phase Amplitude Coupling object defined\n"
     ]
    },
    {
     "name": "stdout",
     "output_type": "stream",
     "text": [
      "(6, 14, 3, 0.2)\n"
     ]
    },
    {
     "name": "stderr",
     "output_type": "stream",
     "text": [
      "    true PAC estimation using Mean Vector Length (MVL, Canolty et al. 2006)\n",
      "    compute surrogates (Swap amplitude time blocks (Bahramisharif et al. 2013), 200 permutations, random_state=973)\n",
      "    infer p-values at (p=0.05, mcp=maxstat)\n",
      "    normalize true PAC estimation by surrogates (Substract the mean and divide by the deviation of the surrogates)\n",
      "    true PAC estimation using Mean Vector Length (MVL, Canolty et al. 2006)\n",
      "    compute surrogates (Swap amplitude time blocks (Bahramisharif et al. 2013), 200 permutations, random_state=0)\n",
      "    infer p-values at (p=0.05, mcp=maxstat)\n",
      "    normalize true PAC estimation by surrogates (Substract the mean and divide by the deviation of the surrogates)\n",
      "    infer p-values at (p=0.05, mcp=maxstat)\n",
      "Event Related PAC object defined\n",
      "    Extract phases (n_pha=1) and amplitudes (n_amps=36)\n"
     ]
    },
    {
     "name": "stdout",
     "output_type": "stream",
     "text": [
      "DATA: (n_trials, n_times)=(2835, 601); SAMPLING FREQUENCY=500.0Hz; TIME VECTOR: n_times=601\n",
      "[3, 9]\n"
     ]
    },
    {
     "name": "stderr",
     "output_type": "stream",
     "text": [
      "    Compute Gaussian-Copula ERPAC\n",
      "Phase Amplitude Coupling object defined\n"
     ]
    },
    {
     "name": "stdout",
     "output_type": "stream",
     "text": [
      "(3, 9, 3, 0.2)\n"
     ]
    },
    {
     "name": "stderr",
     "output_type": "stream",
     "text": [
      "    true PAC estimation using Mean Vector Length (MVL, Canolty et al. 2006)\n",
      "    compute surrogates (Swap amplitude time blocks (Bahramisharif et al. 2013), 200 permutations, random_state=2702)\n",
      "    infer p-values at (p=0.05, mcp=maxstat)\n",
      "    normalize true PAC estimation by surrogates (Substract the mean and divide by the deviation of the surrogates)\n",
      "    true PAC estimation using Mean Vector Length (MVL, Canolty et al. 2006)\n",
      "    compute surrogates (Swap amplitude time blocks (Bahramisharif et al. 2013), 200 permutations, random_state=0)\n",
      "    infer p-values at (p=0.05, mcp=maxstat)\n",
      "    normalize true PAC estimation by surrogates (Substract the mean and divide by the deviation of the surrogates)\n",
      "    infer p-values at (p=0.05, mcp=maxstat)\n",
      "Event Related PAC object defined\n",
      "    Extract phases (n_pha=1) and amplitudes (n_amps=56)\n"
     ]
    },
    {
     "name": "stdout",
     "output_type": "stream",
     "text": [
      "[6, 14]\n"
     ]
    },
    {
     "name": "stderr",
     "output_type": "stream",
     "text": [
      "    Compute Gaussian-Copula ERPAC\n",
      "Phase Amplitude Coupling object defined\n"
     ]
    },
    {
     "name": "stdout",
     "output_type": "stream",
     "text": [
      "(6, 14, 3, 0.2)\n"
     ]
    },
    {
     "name": "stderr",
     "output_type": "stream",
     "text": [
      "    true PAC estimation using Mean Vector Length (MVL, Canolty et al. 2006)\n",
      "    compute surrogates (Swap amplitude time blocks (Bahramisharif et al. 2013), 200 permutations, random_state=8929)\n",
      "    infer p-values at (p=0.05, mcp=maxstat)\n",
      "    normalize true PAC estimation by surrogates (Substract the mean and divide by the deviation of the surrogates)\n",
      "    true PAC estimation using Mean Vector Length (MVL, Canolty et al. 2006)\n",
      "    compute surrogates (Swap amplitude time blocks (Bahramisharif et al. 2013), 200 permutations, random_state=0)\n",
      "    infer p-values at (p=0.05, mcp=maxstat)\n",
      "    normalize true PAC estimation by surrogates (Substract the mean and divide by the deviation of the surrogates)\n",
      "    infer p-values at (p=0.05, mcp=maxstat)\n",
      "Event Related PAC object defined\n",
      "    Extract phases (n_pha=1) and amplitudes (n_amps=36)\n"
     ]
    },
    {
     "name": "stdout",
     "output_type": "stream",
     "text": [
      "DATA: (n_trials, n_times)=(2835, 601); SAMPLING FREQUENCY=500.0Hz; TIME VECTOR: n_times=601\n",
      "[3, 9]\n"
     ]
    },
    {
     "name": "stderr",
     "output_type": "stream",
     "text": [
      "    Compute Gaussian-Copula ERPAC\n",
      "Phase Amplitude Coupling object defined\n"
     ]
    },
    {
     "name": "stdout",
     "output_type": "stream",
     "text": [
      "(3, 9, 3, 0.2)\n"
     ]
    },
    {
     "name": "stderr",
     "output_type": "stream",
     "text": [
      "    true PAC estimation using Mean Vector Length (MVL, Canolty et al. 2006)\n",
      "    compute surrogates (Swap amplitude time blocks (Bahramisharif et al. 2013), 200 permutations, random_state=4287)\n",
      "    infer p-values at (p=0.05, mcp=maxstat)\n",
      "    normalize true PAC estimation by surrogates (Substract the mean and divide by the deviation of the surrogates)\n",
      "    true PAC estimation using Mean Vector Length (MVL, Canolty et al. 2006)\n",
      "    compute surrogates (Swap amplitude time blocks (Bahramisharif et al. 2013), 200 permutations, random_state=0)\n",
      "    infer p-values at (p=0.05, mcp=maxstat)\n",
      "    normalize true PAC estimation by surrogates (Substract the mean and divide by the deviation of the surrogates)\n",
      "    infer p-values at (p=0.05, mcp=maxstat)\n",
      "Event Related PAC object defined\n",
      "    Extract phases (n_pha=1) and amplitudes (n_amps=56)\n"
     ]
    },
    {
     "name": "stdout",
     "output_type": "stream",
     "text": [
      "[6, 14]\n"
     ]
    },
    {
     "name": "stderr",
     "output_type": "stream",
     "text": [
      "    Compute Gaussian-Copula ERPAC\n",
      "Phase Amplitude Coupling object defined\n"
     ]
    },
    {
     "name": "stdout",
     "output_type": "stream",
     "text": [
      "(6, 14, 3, 0.2)\n"
     ]
    },
    {
     "name": "stderr",
     "output_type": "stream",
     "text": [
      "    true PAC estimation using Mean Vector Length (MVL, Canolty et al. 2006)\n",
      "    compute surrogates (Swap amplitude time blocks (Bahramisharif et al. 2013), 200 permutations, random_state=2605)\n",
      "    infer p-values at (p=0.05, mcp=maxstat)\n",
      "    normalize true PAC estimation by surrogates (Substract the mean and divide by the deviation of the surrogates)\n",
      "    true PAC estimation using Mean Vector Length (MVL, Canolty et al. 2006)\n",
      "    compute surrogates (Swap amplitude time blocks (Bahramisharif et al. 2013), 200 permutations, random_state=0)\n",
      "    infer p-values at (p=0.05, mcp=maxstat)\n",
      "    normalize true PAC estimation by surrogates (Substract the mean and divide by the deviation of the surrogates)\n",
      "    infer p-values at (p=0.05, mcp=maxstat)\n",
      "Event Related PAC object defined\n",
      "    Extract phases (n_pha=1) and amplitudes (n_amps=36)\n"
     ]
    },
    {
     "name": "stdout",
     "output_type": "stream",
     "text": [
      "DATA: (n_trials, n_times)=(2835, 601); SAMPLING FREQUENCY=500.0Hz; TIME VECTOR: n_times=601\n",
      "[3, 9]\n"
     ]
    },
    {
     "name": "stderr",
     "output_type": "stream",
     "text": [
      "    Compute Gaussian-Copula ERPAC\n",
      "Phase Amplitude Coupling object defined\n"
     ]
    },
    {
     "name": "stdout",
     "output_type": "stream",
     "text": [
      "(3, 9, 3, 0.2)\n"
     ]
    },
    {
     "name": "stderr",
     "output_type": "stream",
     "text": [
      "    true PAC estimation using Mean Vector Length (MVL, Canolty et al. 2006)\n",
      "    compute surrogates (Swap amplitude time blocks (Bahramisharif et al. 2013), 200 permutations, random_state=8618)\n",
      "    infer p-values at (p=0.05, mcp=maxstat)\n",
      "    normalize true PAC estimation by surrogates (Substract the mean and divide by the deviation of the surrogates)\n",
      "    true PAC estimation using Mean Vector Length (MVL, Canolty et al. 2006)\n",
      "    compute surrogates (Swap amplitude time blocks (Bahramisharif et al. 2013), 200 permutations, random_state=0)\n",
      "    infer p-values at (p=0.05, mcp=maxstat)\n",
      "    normalize true PAC estimation by surrogates (Substract the mean and divide by the deviation of the surrogates)\n",
      "    infer p-values at (p=0.05, mcp=maxstat)\n",
      "Event Related PAC object defined\n",
      "    Extract phases (n_pha=1) and amplitudes (n_amps=56)\n"
     ]
    },
    {
     "name": "stdout",
     "output_type": "stream",
     "text": [
      "[6, 14]\n"
     ]
    },
    {
     "name": "stderr",
     "output_type": "stream",
     "text": [
      "    Compute Gaussian-Copula ERPAC\n",
      "Phase Amplitude Coupling object defined\n"
     ]
    },
    {
     "name": "stdout",
     "output_type": "stream",
     "text": [
      "(6, 14, 3, 0.2)\n"
     ]
    },
    {
     "name": "stderr",
     "output_type": "stream",
     "text": [
      "    true PAC estimation using Mean Vector Length (MVL, Canolty et al. 2006)\n",
      "    compute surrogates (Swap amplitude time blocks (Bahramisharif et al. 2013), 200 permutations, random_state=7975)\n",
      "    infer p-values at (p=0.05, mcp=maxstat)\n",
      "    normalize true PAC estimation by surrogates (Substract the mean and divide by the deviation of the surrogates)\n",
      "    true PAC estimation using Mean Vector Length (MVL, Canolty et al. 2006)\n",
      "    compute surrogates (Swap amplitude time blocks (Bahramisharif et al. 2013), 200 permutations, random_state=0)\n",
      "    infer p-values at (p=0.05, mcp=maxstat)\n",
      "    normalize true PAC estimation by surrogates (Substract the mean and divide by the deviation of the surrogates)\n",
      "    infer p-values at (p=0.05, mcp=maxstat)\n",
      "Event Related PAC object defined\n",
      "    Extract phases (n_pha=1) and amplitudes (n_amps=36)\n"
     ]
    },
    {
     "name": "stdout",
     "output_type": "stream",
     "text": [
      "DATA: (n_trials, n_times)=(2835, 601); SAMPLING FREQUENCY=500.0Hz; TIME VECTOR: n_times=601\n",
      "[3, 9]\n"
     ]
    },
    {
     "name": "stderr",
     "output_type": "stream",
     "text": [
      "    Compute Gaussian-Copula ERPAC\n",
      "Phase Amplitude Coupling object defined\n"
     ]
    },
    {
     "name": "stdout",
     "output_type": "stream",
     "text": [
      "(3, 9, 3, 0.2)\n"
     ]
    },
    {
     "name": "stderr",
     "output_type": "stream",
     "text": [
      "    true PAC estimation using Mean Vector Length (MVL, Canolty et al. 2006)\n",
      "    compute surrogates (Swap amplitude time blocks (Bahramisharif et al. 2013), 200 permutations, random_state=6590)\n",
      "    infer p-values at (p=0.05, mcp=maxstat)\n",
      "    normalize true PAC estimation by surrogates (Substract the mean and divide by the deviation of the surrogates)\n",
      "    true PAC estimation using Mean Vector Length (MVL, Canolty et al. 2006)\n",
      "    compute surrogates (Swap amplitude time blocks (Bahramisharif et al. 2013), 200 permutations, random_state=0)\n",
      "    infer p-values at (p=0.05, mcp=maxstat)\n",
      "    normalize true PAC estimation by surrogates (Substract the mean and divide by the deviation of the surrogates)\n",
      "    infer p-values at (p=0.05, mcp=maxstat)\n",
      "Event Related PAC object defined\n",
      "    Extract phases (n_pha=1) and amplitudes (n_amps=56)\n"
     ]
    },
    {
     "name": "stdout",
     "output_type": "stream",
     "text": [
      "[6, 14]\n"
     ]
    },
    {
     "name": "stderr",
     "output_type": "stream",
     "text": [
      "    Compute Gaussian-Copula ERPAC\n",
      "Phase Amplitude Coupling object defined\n"
     ]
    },
    {
     "name": "stdout",
     "output_type": "stream",
     "text": [
      "(6, 14, 3, 0.2)\n"
     ]
    },
    {
     "name": "stderr",
     "output_type": "stream",
     "text": [
      "    true PAC estimation using Mean Vector Length (MVL, Canolty et al. 2006)\n",
      "    compute surrogates (Swap amplitude time blocks (Bahramisharif et al. 2013), 200 permutations, random_state=5713)\n",
      "    infer p-values at (p=0.05, mcp=maxstat)\n",
      "    normalize true PAC estimation by surrogates (Substract the mean and divide by the deviation of the surrogates)\n",
      "    true PAC estimation using Mean Vector Length (MVL, Canolty et al. 2006)\n",
      "    compute surrogates (Swap amplitude time blocks (Bahramisharif et al. 2013), 200 permutations, random_state=0)\n",
      "    infer p-values at (p=0.05, mcp=maxstat)\n",
      "    normalize true PAC estimation by surrogates (Substract the mean and divide by the deviation of the surrogates)\n",
      "    infer p-values at (p=0.05, mcp=maxstat)\n",
      "Event Related PAC object defined\n",
      "    Extract phases (n_pha=1) and amplitudes (n_amps=36)\n"
     ]
    },
    {
     "name": "stdout",
     "output_type": "stream",
     "text": [
      "DATA: (n_trials, n_times)=(2835, 601); SAMPLING FREQUENCY=500.0Hz; TIME VECTOR: n_times=601\n",
      "[3, 9]\n"
     ]
    },
    {
     "name": "stderr",
     "output_type": "stream",
     "text": [
      "    Compute Gaussian-Copula ERPAC\n",
      "Phase Amplitude Coupling object defined\n"
     ]
    },
    {
     "name": "stdout",
     "output_type": "stream",
     "text": [
      "(3, 9, 3, 0.2)\n"
     ]
    },
    {
     "name": "stderr",
     "output_type": "stream",
     "text": [
      "    true PAC estimation using Mean Vector Length (MVL, Canolty et al. 2006)\n",
      "    compute surrogates (Swap amplitude time blocks (Bahramisharif et al. 2013), 200 permutations, random_state=1224)\n",
      "    infer p-values at (p=0.05, mcp=maxstat)\n",
      "    normalize true PAC estimation by surrogates (Substract the mean and divide by the deviation of the surrogates)\n",
      "    true PAC estimation using Mean Vector Length (MVL, Canolty et al. 2006)\n",
      "    compute surrogates (Swap amplitude time blocks (Bahramisharif et al. 2013), 200 permutations, random_state=0)\n",
      "    infer p-values at (p=0.05, mcp=maxstat)\n",
      "    normalize true PAC estimation by surrogates (Substract the mean and divide by the deviation of the surrogates)\n",
      "    infer p-values at (p=0.05, mcp=maxstat)\n",
      "Event Related PAC object defined\n",
      "    Extract phases (n_pha=1) and amplitudes (n_amps=56)\n"
     ]
    },
    {
     "name": "stdout",
     "output_type": "stream",
     "text": [
      "[6, 14]\n"
     ]
    },
    {
     "name": "stderr",
     "output_type": "stream",
     "text": [
      "    Compute Gaussian-Copula ERPAC\n",
      "Phase Amplitude Coupling object defined\n"
     ]
    },
    {
     "name": "stdout",
     "output_type": "stream",
     "text": [
      "(6, 14, 3, 0.2)\n"
     ]
    },
    {
     "name": "stderr",
     "output_type": "stream",
     "text": [
      "    true PAC estimation using Mean Vector Length (MVL, Canolty et al. 2006)\n",
      "    compute surrogates (Swap amplitude time blocks (Bahramisharif et al. 2013), 200 permutations, random_state=2760)\n",
      "    infer p-values at (p=0.05, mcp=maxstat)\n",
      "    normalize true PAC estimation by surrogates (Substract the mean and divide by the deviation of the surrogates)\n",
      "    true PAC estimation using Mean Vector Length (MVL, Canolty et al. 2006)\n",
      "    compute surrogates (Swap amplitude time blocks (Bahramisharif et al. 2013), 200 permutations, random_state=0)\n",
      "    infer p-values at (p=0.05, mcp=maxstat)\n",
      "    normalize true PAC estimation by surrogates (Substract the mean and divide by the deviation of the surrogates)\n",
      "    infer p-values at (p=0.05, mcp=maxstat)\n",
      "Event Related PAC object defined\n",
      "    Extract phases (n_pha=1) and amplitudes (n_amps=36)\n"
     ]
    },
    {
     "name": "stdout",
     "output_type": "stream",
     "text": [
      "DATA: (n_trials, n_times)=(2835, 601); SAMPLING FREQUENCY=500.0Hz; TIME VECTOR: n_times=601\n",
      "[3, 9]\n"
     ]
    },
    {
     "name": "stderr",
     "output_type": "stream",
     "text": [
      "    Compute Gaussian-Copula ERPAC\n",
      "Phase Amplitude Coupling object defined\n"
     ]
    },
    {
     "name": "stdout",
     "output_type": "stream",
     "text": [
      "(3, 9, 3, 0.2)\n"
     ]
    },
    {
     "name": "stderr",
     "output_type": "stream",
     "text": [
      "    true PAC estimation using Mean Vector Length (MVL, Canolty et al. 2006)\n",
      "    compute surrogates (Swap amplitude time blocks (Bahramisharif et al. 2013), 200 permutations, random_state=297)\n",
      "    infer p-values at (p=0.05, mcp=maxstat)\n",
      "    normalize true PAC estimation by surrogates (Substract the mean and divide by the deviation of the surrogates)\n",
      "    true PAC estimation using Mean Vector Length (MVL, Canolty et al. 2006)\n",
      "    compute surrogates (Swap amplitude time blocks (Bahramisharif et al. 2013), 200 permutations, random_state=0)\n",
      "    infer p-values at (p=0.05, mcp=maxstat)\n",
      "    normalize true PAC estimation by surrogates (Substract the mean and divide by the deviation of the surrogates)\n",
      "    infer p-values at (p=0.05, mcp=maxstat)\n",
      "Event Related PAC object defined\n",
      "    Extract phases (n_pha=1) and amplitudes (n_amps=56)\n"
     ]
    },
    {
     "name": "stdout",
     "output_type": "stream",
     "text": [
      "[6, 14]\n"
     ]
    },
    {
     "name": "stderr",
     "output_type": "stream",
     "text": [
      "    Compute Gaussian-Copula ERPAC\n",
      "Phase Amplitude Coupling object defined\n"
     ]
    },
    {
     "name": "stdout",
     "output_type": "stream",
     "text": [
      "(6, 14, 3, 0.2)\n"
     ]
    },
    {
     "name": "stderr",
     "output_type": "stream",
     "text": [
      "    true PAC estimation using Mean Vector Length (MVL, Canolty et al. 2006)\n",
      "    compute surrogates (Swap amplitude time blocks (Bahramisharif et al. 2013), 200 permutations, random_state=6985)\n",
      "    infer p-values at (p=0.05, mcp=maxstat)\n",
      "    normalize true PAC estimation by surrogates (Substract the mean and divide by the deviation of the surrogates)\n",
      "    true PAC estimation using Mean Vector Length (MVL, Canolty et al. 2006)\n",
      "    compute surrogates (Swap amplitude time blocks (Bahramisharif et al. 2013), 200 permutations, random_state=0)\n",
      "    infer p-values at (p=0.05, mcp=maxstat)\n",
      "    normalize true PAC estimation by surrogates (Substract the mean and divide by the deviation of the surrogates)\n",
      "    infer p-values at (p=0.05, mcp=maxstat)\n",
      "Event Related PAC object defined\n",
      "    Extract phases (n_pha=1) and amplitudes (n_amps=36)\n"
     ]
    },
    {
     "name": "stdout",
     "output_type": "stream",
     "text": [
      "DATA: (n_trials, n_times)=(2835, 601); SAMPLING FREQUENCY=500.0Hz; TIME VECTOR: n_times=601\n",
      "[3, 9]\n"
     ]
    },
    {
     "name": "stderr",
     "output_type": "stream",
     "text": [
      "    Compute Gaussian-Copula ERPAC\n",
      "Phase Amplitude Coupling object defined\n"
     ]
    },
    {
     "name": "stdout",
     "output_type": "stream",
     "text": [
      "(3, 9, 3, 0.2)\n"
     ]
    },
    {
     "name": "stderr",
     "output_type": "stream",
     "text": [
      "    true PAC estimation using Mean Vector Length (MVL, Canolty et al. 2006)\n",
      "    compute surrogates (Swap amplitude time blocks (Bahramisharif et al. 2013), 200 permutations, random_state=2219)\n",
      "    infer p-values at (p=0.05, mcp=maxstat)\n",
      "    normalize true PAC estimation by surrogates (Substract the mean and divide by the deviation of the surrogates)\n",
      "    true PAC estimation using Mean Vector Length (MVL, Canolty et al. 2006)\n",
      "    compute surrogates (Swap amplitude time blocks (Bahramisharif et al. 2013), 200 permutations, random_state=0)\n",
      "    infer p-values at (p=0.05, mcp=maxstat)\n",
      "    normalize true PAC estimation by surrogates (Substract the mean and divide by the deviation of the surrogates)\n",
      "    infer p-values at (p=0.05, mcp=maxstat)\n",
      "Event Related PAC object defined\n",
      "    Extract phases (n_pha=1) and amplitudes (n_amps=56)\n"
     ]
    },
    {
     "name": "stdout",
     "output_type": "stream",
     "text": [
      "[6, 14]\n"
     ]
    },
    {
     "name": "stderr",
     "output_type": "stream",
     "text": [
      "    Compute Gaussian-Copula ERPAC\n",
      "Phase Amplitude Coupling object defined\n"
     ]
    },
    {
     "name": "stdout",
     "output_type": "stream",
     "text": [
      "(6, 14, 3, 0.2)\n"
     ]
    },
    {
     "name": "stderr",
     "output_type": "stream",
     "text": [
      "    true PAC estimation using Mean Vector Length (MVL, Canolty et al. 2006)\n",
      "    compute surrogates (Swap amplitude time blocks (Bahramisharif et al. 2013), 200 permutations, random_state=1004)\n",
      "    infer p-values at (p=0.05, mcp=maxstat)\n",
      "    normalize true PAC estimation by surrogates (Substract the mean and divide by the deviation of the surrogates)\n",
      "    true PAC estimation using Mean Vector Length (MVL, Canolty et al. 2006)\n",
      "    compute surrogates (Swap amplitude time blocks (Bahramisharif et al. 2013), 200 permutations, random_state=0)\n",
      "    infer p-values at (p=0.05, mcp=maxstat)\n",
      "    normalize true PAC estimation by surrogates (Substract the mean and divide by the deviation of the surrogates)\n",
      "    infer p-values at (p=0.05, mcp=maxstat)\n",
      "Event Related PAC object defined\n",
      "    Extract phases (n_pha=1) and amplitudes (n_amps=36)\n"
     ]
    },
    {
     "name": "stdout",
     "output_type": "stream",
     "text": [
      "DATA: (n_trials, n_times)=(2835, 601); SAMPLING FREQUENCY=500.0Hz; TIME VECTOR: n_times=601\n",
      "[3, 9]\n"
     ]
    },
    {
     "name": "stderr",
     "output_type": "stream",
     "text": [
      "    Compute Gaussian-Copula ERPAC\n",
      "Phase Amplitude Coupling object defined\n"
     ]
    },
    {
     "name": "stdout",
     "output_type": "stream",
     "text": [
      "(3, 9, 3, 0.2)\n"
     ]
    },
    {
     "name": "stderr",
     "output_type": "stream",
     "text": [
      "    true PAC estimation using Mean Vector Length (MVL, Canolty et al. 2006)\n",
      "    compute surrogates (Swap amplitude time blocks (Bahramisharif et al. 2013), 200 permutations, random_state=7296)\n",
      "    infer p-values at (p=0.05, mcp=maxstat)\n",
      "    normalize true PAC estimation by surrogates (Substract the mean and divide by the deviation of the surrogates)\n",
      "    true PAC estimation using Mean Vector Length (MVL, Canolty et al. 2006)\n",
      "    compute surrogates (Swap amplitude time blocks (Bahramisharif et al. 2013), 200 permutations, random_state=0)\n",
      "    infer p-values at (p=0.05, mcp=maxstat)\n",
      "    normalize true PAC estimation by surrogates (Substract the mean and divide by the deviation of the surrogates)\n",
      "    infer p-values at (p=0.05, mcp=maxstat)\n",
      "Event Related PAC object defined\n",
      "    Extract phases (n_pha=1) and amplitudes (n_amps=56)\n"
     ]
    },
    {
     "name": "stdout",
     "output_type": "stream",
     "text": [
      "[6, 14]\n"
     ]
    },
    {
     "name": "stderr",
     "output_type": "stream",
     "text": [
      "    Compute Gaussian-Copula ERPAC\n",
      "Phase Amplitude Coupling object defined\n"
     ]
    },
    {
     "name": "stdout",
     "output_type": "stream",
     "text": [
      "(6, 14, 3, 0.2)\n"
     ]
    },
    {
     "name": "stderr",
     "output_type": "stream",
     "text": [
      "    true PAC estimation using Mean Vector Length (MVL, Canolty et al. 2006)\n",
      "    compute surrogates (Swap amplitude time blocks (Bahramisharif et al. 2013), 200 permutations, random_state=8305)\n",
      "    infer p-values at (p=0.05, mcp=maxstat)\n",
      "    normalize true PAC estimation by surrogates (Substract the mean and divide by the deviation of the surrogates)\n",
      "    true PAC estimation using Mean Vector Length (MVL, Canolty et al. 2006)\n",
      "    compute surrogates (Swap amplitude time blocks (Bahramisharif et al. 2013), 200 permutations, random_state=0)\n",
      "    infer p-values at (p=0.05, mcp=maxstat)\n",
      "    normalize true PAC estimation by surrogates (Substract the mean and divide by the deviation of the surrogates)\n",
      "    infer p-values at (p=0.05, mcp=maxstat)\n",
      "Event Related PAC object defined\n",
      "    Extract phases (n_pha=1) and amplitudes (n_amps=36)\n"
     ]
    },
    {
     "name": "stdout",
     "output_type": "stream",
     "text": [
      "DATA: (n_trials, n_times)=(2835, 601); SAMPLING FREQUENCY=500.0Hz; TIME VECTOR: n_times=601\n",
      "[3, 9]\n"
     ]
    },
    {
     "name": "stderr",
     "output_type": "stream",
     "text": [
      "    Compute Gaussian-Copula ERPAC\n",
      "Phase Amplitude Coupling object defined\n"
     ]
    },
    {
     "name": "stdout",
     "output_type": "stream",
     "text": [
      "(3, 9, 3, 0.2)\n"
     ]
    },
    {
     "name": "stderr",
     "output_type": "stream",
     "text": [
      "    true PAC estimation using Mean Vector Length (MVL, Canolty et al. 2006)\n",
      "    compute surrogates (Swap amplitude time blocks (Bahramisharif et al. 2013), 200 permutations, random_state=2996)\n",
      "    infer p-values at (p=0.05, mcp=maxstat)\n",
      "    normalize true PAC estimation by surrogates (Substract the mean and divide by the deviation of the surrogates)\n",
      "    true PAC estimation using Mean Vector Length (MVL, Canolty et al. 2006)\n",
      "    compute surrogates (Swap amplitude time blocks (Bahramisharif et al. 2013), 200 permutations, random_state=0)\n",
      "    infer p-values at (p=0.05, mcp=maxstat)\n",
      "    normalize true PAC estimation by surrogates (Substract the mean and divide by the deviation of the surrogates)\n",
      "    infer p-values at (p=0.05, mcp=maxstat)\n",
      "Event Related PAC object defined\n",
      "    Extract phases (n_pha=1) and amplitudes (n_amps=56)\n"
     ]
    },
    {
     "name": "stdout",
     "output_type": "stream",
     "text": [
      "[6, 14]\n"
     ]
    },
    {
     "name": "stderr",
     "output_type": "stream",
     "text": [
      "    Compute Gaussian-Copula ERPAC\n",
      "Phase Amplitude Coupling object defined\n"
     ]
    },
    {
     "name": "stdout",
     "output_type": "stream",
     "text": [
      "(6, 14, 3, 0.2)\n"
     ]
    },
    {
     "name": "stderr",
     "output_type": "stream",
     "text": [
      "    true PAC estimation using Mean Vector Length (MVL, Canolty et al. 2006)\n",
      "    compute surrogates (Swap amplitude time blocks (Bahramisharif et al. 2013), 200 permutations, random_state=9197)\n",
      "    infer p-values at (p=0.05, mcp=maxstat)\n",
      "    normalize true PAC estimation by surrogates (Substract the mean and divide by the deviation of the surrogates)\n",
      "    true PAC estimation using Mean Vector Length (MVL, Canolty et al. 2006)\n",
      "    compute surrogates (Swap amplitude time blocks (Bahramisharif et al. 2013), 200 permutations, random_state=0)\n",
      "    infer p-values at (p=0.05, mcp=maxstat)\n",
      "    normalize true PAC estimation by surrogates (Substract the mean and divide by the deviation of the surrogates)\n",
      "    infer p-values at (p=0.05, mcp=maxstat)\n",
      "Event Related PAC object defined\n",
      "    Extract phases (n_pha=1) and amplitudes (n_amps=36)\n"
     ]
    },
    {
     "name": "stdout",
     "output_type": "stream",
     "text": [
      "DATA: (n_trials, n_times)=(2835, 601); SAMPLING FREQUENCY=500.0Hz; TIME VECTOR: n_times=601\n",
      "[3, 9]\n"
     ]
    },
    {
     "name": "stderr",
     "output_type": "stream",
     "text": [
      "    Compute Gaussian-Copula ERPAC\n",
      "Phase Amplitude Coupling object defined\n"
     ]
    },
    {
     "name": "stdout",
     "output_type": "stream",
     "text": [
      "(3, 9, 3, 0.2)\n"
     ]
    },
    {
     "name": "stderr",
     "output_type": "stream",
     "text": [
      "    true PAC estimation using Mean Vector Length (MVL, Canolty et al. 2006)\n",
      "    compute surrogates (Swap amplitude time blocks (Bahramisharif et al. 2013), 200 permutations, random_state=9814)\n",
      "    infer p-values at (p=0.05, mcp=maxstat)\n",
      "    normalize true PAC estimation by surrogates (Substract the mean and divide by the deviation of the surrogates)\n",
      "    true PAC estimation using Mean Vector Length (MVL, Canolty et al. 2006)\n",
      "    compute surrogates (Swap amplitude time blocks (Bahramisharif et al. 2013), 200 permutations, random_state=0)\n",
      "    infer p-values at (p=0.05, mcp=maxstat)\n",
      "    normalize true PAC estimation by surrogates (Substract the mean and divide by the deviation of the surrogates)\n",
      "    infer p-values at (p=0.05, mcp=maxstat)\n",
      "Event Related PAC object defined\n",
      "    Extract phases (n_pha=1) and amplitudes (n_amps=56)\n"
     ]
    },
    {
     "name": "stdout",
     "output_type": "stream",
     "text": [
      "[6, 14]\n"
     ]
    },
    {
     "name": "stderr",
     "output_type": "stream",
     "text": [
      "    Compute Gaussian-Copula ERPAC\n",
      "Phase Amplitude Coupling object defined\n"
     ]
    },
    {
     "name": "stdout",
     "output_type": "stream",
     "text": [
      "(6, 14, 3, 0.2)\n"
     ]
    },
    {
     "name": "stderr",
     "output_type": "stream",
     "text": [
      "    true PAC estimation using Mean Vector Length (MVL, Canolty et al. 2006)\n",
      "    compute surrogates (Swap amplitude time blocks (Bahramisharif et al. 2013), 200 permutations, random_state=8447)\n",
      "    infer p-values at (p=0.05, mcp=maxstat)\n",
      "    normalize true PAC estimation by surrogates (Substract the mean and divide by the deviation of the surrogates)\n",
      "    true PAC estimation using Mean Vector Length (MVL, Canolty et al. 2006)\n",
      "    compute surrogates (Swap amplitude time blocks (Bahramisharif et al. 2013), 200 permutations, random_state=0)\n",
      "    infer p-values at (p=0.05, mcp=maxstat)\n",
      "    normalize true PAC estimation by surrogates (Substract the mean and divide by the deviation of the surrogates)\n",
      "    infer p-values at (p=0.05, mcp=maxstat)\n",
      "Event Related PAC object defined\n",
      "    Extract phases (n_pha=1) and amplitudes (n_amps=36)\n"
     ]
    },
    {
     "name": "stdout",
     "output_type": "stream",
     "text": [
      "DATA: (n_trials, n_times)=(2835, 601); SAMPLING FREQUENCY=500.0Hz; TIME VECTOR: n_times=601\n",
      "[3, 9]\n"
     ]
    },
    {
     "name": "stderr",
     "output_type": "stream",
     "text": [
      "    Compute Gaussian-Copula ERPAC\n",
      "Phase Amplitude Coupling object defined\n"
     ]
    },
    {
     "name": "stdout",
     "output_type": "stream",
     "text": [
      "(3, 9, 3, 0.2)\n"
     ]
    },
    {
     "name": "stderr",
     "output_type": "stream",
     "text": [
      "    true PAC estimation using Mean Vector Length (MVL, Canolty et al. 2006)\n",
      "    compute surrogates (Swap amplitude time blocks (Bahramisharif et al. 2013), 200 permutations, random_state=2628)\n",
      "    infer p-values at (p=0.05, mcp=maxstat)\n",
      "    normalize true PAC estimation by surrogates (Substract the mean and divide by the deviation of the surrogates)\n",
      "    true PAC estimation using Mean Vector Length (MVL, Canolty et al. 2006)\n",
      "    compute surrogates (Swap amplitude time blocks (Bahramisharif et al. 2013), 200 permutations, random_state=0)\n",
      "    infer p-values at (p=0.05, mcp=maxstat)\n",
      "    normalize true PAC estimation by surrogates (Substract the mean and divide by the deviation of the surrogates)\n",
      "    infer p-values at (p=0.05, mcp=maxstat)\n",
      "Event Related PAC object defined\n",
      "    Extract phases (n_pha=1) and amplitudes (n_amps=56)\n"
     ]
    },
    {
     "name": "stdout",
     "output_type": "stream",
     "text": [
      "[6, 14]\n"
     ]
    },
    {
     "name": "stderr",
     "output_type": "stream",
     "text": [
      "    Compute Gaussian-Copula ERPAC\n",
      "Phase Amplitude Coupling object defined\n"
     ]
    },
    {
     "name": "stdout",
     "output_type": "stream",
     "text": [
      "(6, 14, 3, 0.2)\n"
     ]
    },
    {
     "name": "stderr",
     "output_type": "stream",
     "text": [
      "    true PAC estimation using Mean Vector Length (MVL, Canolty et al. 2006)\n",
      "    compute surrogates (Swap amplitude time blocks (Bahramisharif et al. 2013), 200 permutations, random_state=6966)\n",
      "    infer p-values at (p=0.05, mcp=maxstat)\n",
      "    normalize true PAC estimation by surrogates (Substract the mean and divide by the deviation of the surrogates)\n",
      "    true PAC estimation using Mean Vector Length (MVL, Canolty et al. 2006)\n",
      "    compute surrogates (Swap amplitude time blocks (Bahramisharif et al. 2013), 200 permutations, random_state=0)\n",
      "    infer p-values at (p=0.05, mcp=maxstat)\n",
      "    normalize true PAC estimation by surrogates (Substract the mean and divide by the deviation of the surrogates)\n",
      "    infer p-values at (p=0.05, mcp=maxstat)\n",
      "Event Related PAC object defined\n",
      "    Extract phases (n_pha=1) and amplitudes (n_amps=36)\n"
     ]
    },
    {
     "name": "stdout",
     "output_type": "stream",
     "text": [
      "DATA: (n_trials, n_times)=(2835, 601); SAMPLING FREQUENCY=500.0Hz; TIME VECTOR: n_times=601\n",
      "[3, 9]\n"
     ]
    },
    {
     "name": "stderr",
     "output_type": "stream",
     "text": [
      "    Compute Gaussian-Copula ERPAC\n",
      "Phase Amplitude Coupling object defined\n"
     ]
    },
    {
     "name": "stdout",
     "output_type": "stream",
     "text": [
      "(3, 9, 3, 0.2)\n"
     ]
    },
    {
     "name": "stderr",
     "output_type": "stream",
     "text": [
      "    true PAC estimation using Mean Vector Length (MVL, Canolty et al. 2006)\n",
      "    compute surrogates (Swap amplitude time blocks (Bahramisharif et al. 2013), 200 permutations, random_state=5062)\n",
      "    infer p-values at (p=0.05, mcp=maxstat)\n",
      "    normalize true PAC estimation by surrogates (Substract the mean and divide by the deviation of the surrogates)\n",
      "    true PAC estimation using Mean Vector Length (MVL, Canolty et al. 2006)\n",
      "    compute surrogates (Swap amplitude time blocks (Bahramisharif et al. 2013), 200 permutations, random_state=0)\n",
      "    infer p-values at (p=0.05, mcp=maxstat)\n",
      "    normalize true PAC estimation by surrogates (Substract the mean and divide by the deviation of the surrogates)\n",
      "    infer p-values at (p=0.05, mcp=maxstat)\n",
      "Event Related PAC object defined\n",
      "    Extract phases (n_pha=1) and amplitudes (n_amps=56)\n"
     ]
    },
    {
     "name": "stdout",
     "output_type": "stream",
     "text": [
      "[6, 14]\n"
     ]
    },
    {
     "name": "stderr",
     "output_type": "stream",
     "text": [
      "    Compute Gaussian-Copula ERPAC\n",
      "Phase Amplitude Coupling object defined\n"
     ]
    },
    {
     "name": "stdout",
     "output_type": "stream",
     "text": [
      "(6, 14, 3, 0.2)\n"
     ]
    },
    {
     "name": "stderr",
     "output_type": "stream",
     "text": [
      "    true PAC estimation using Mean Vector Length (MVL, Canolty et al. 2006)\n",
      "    compute surrogates (Swap amplitude time blocks (Bahramisharif et al. 2013), 200 permutations, random_state=4019)\n",
      "    infer p-values at (p=0.05, mcp=maxstat)\n",
      "    normalize true PAC estimation by surrogates (Substract the mean and divide by the deviation of the surrogates)\n",
      "    true PAC estimation using Mean Vector Length (MVL, Canolty et al. 2006)\n",
      "    compute surrogates (Swap amplitude time blocks (Bahramisharif et al. 2013), 200 permutations, random_state=0)\n",
      "    infer p-values at (p=0.05, mcp=maxstat)\n",
      "    normalize true PAC estimation by surrogates (Substract the mean and divide by the deviation of the surrogates)\n",
      "    infer p-values at (p=0.05, mcp=maxstat)\n",
      "Event Related PAC object defined\n",
      "    Extract phases (n_pha=1) and amplitudes (n_amps=36)\n"
     ]
    },
    {
     "name": "stdout",
     "output_type": "stream",
     "text": [
      "DATA: (n_trials, n_times)=(2835, 601); SAMPLING FREQUENCY=500.0Hz; TIME VECTOR: n_times=601\n",
      "[3, 9]\n"
     ]
    },
    {
     "name": "stderr",
     "output_type": "stream",
     "text": [
      "    Compute Gaussian-Copula ERPAC\n",
      "Phase Amplitude Coupling object defined\n"
     ]
    },
    {
     "name": "stdout",
     "output_type": "stream",
     "text": [
      "(3, 9, 3, 0.2)\n"
     ]
    },
    {
     "name": "stderr",
     "output_type": "stream",
     "text": [
      "    true PAC estimation using Mean Vector Length (MVL, Canolty et al. 2006)\n",
      "    compute surrogates (Swap amplitude time blocks (Bahramisharif et al. 2013), 200 permutations, random_state=5567)\n",
      "    infer p-values at (p=0.05, mcp=maxstat)\n",
      "    normalize true PAC estimation by surrogates (Substract the mean and divide by the deviation of the surrogates)\n",
      "    true PAC estimation using Mean Vector Length (MVL, Canolty et al. 2006)\n",
      "    compute surrogates (Swap amplitude time blocks (Bahramisharif et al. 2013), 200 permutations, random_state=0)\n",
      "    infer p-values at (p=0.05, mcp=maxstat)\n",
      "    normalize true PAC estimation by surrogates (Substract the mean and divide by the deviation of the surrogates)\n",
      "    infer p-values at (p=0.05, mcp=maxstat)\n",
      "Event Related PAC object defined\n",
      "    Extract phases (n_pha=1) and amplitudes (n_amps=56)\n"
     ]
    },
    {
     "name": "stdout",
     "output_type": "stream",
     "text": [
      "[6, 14]\n"
     ]
    },
    {
     "name": "stderr",
     "output_type": "stream",
     "text": [
      "    Compute Gaussian-Copula ERPAC\n",
      "Phase Amplitude Coupling object defined\n"
     ]
    },
    {
     "name": "stdout",
     "output_type": "stream",
     "text": [
      "(6, 14, 3, 0.2)\n"
     ]
    },
    {
     "name": "stderr",
     "output_type": "stream",
     "text": [
      "    true PAC estimation using Mean Vector Length (MVL, Canolty et al. 2006)\n",
      "    compute surrogates (Swap amplitude time blocks (Bahramisharif et al. 2013), 200 permutations, random_state=7525)\n",
      "    infer p-values at (p=0.05, mcp=maxstat)\n",
      "    normalize true PAC estimation by surrogates (Substract the mean and divide by the deviation of the surrogates)\n",
      "    true PAC estimation using Mean Vector Length (MVL, Canolty et al. 2006)\n",
      "    compute surrogates (Swap amplitude time blocks (Bahramisharif et al. 2013), 200 permutations, random_state=0)\n",
      "    infer p-values at (p=0.05, mcp=maxstat)\n",
      "    normalize true PAC estimation by surrogates (Substract the mean and divide by the deviation of the surrogates)\n",
      "    infer p-values at (p=0.05, mcp=maxstat)\n",
      "Event Related PAC object defined\n",
      "    Extract phases (n_pha=1) and amplitudes (n_amps=36)\n"
     ]
    },
    {
     "name": "stdout",
     "output_type": "stream",
     "text": [
      "DATA: (n_trials, n_times)=(2835, 601); SAMPLING FREQUENCY=500.0Hz; TIME VECTOR: n_times=601\n",
      "[3, 9]\n"
     ]
    },
    {
     "name": "stderr",
     "output_type": "stream",
     "text": [
      "    Compute Gaussian-Copula ERPAC\n",
      "Phase Amplitude Coupling object defined\n"
     ]
    },
    {
     "name": "stdout",
     "output_type": "stream",
     "text": [
      "(3, 9, 3, 0.2)\n"
     ]
    },
    {
     "name": "stderr",
     "output_type": "stream",
     "text": [
      "    true PAC estimation using Mean Vector Length (MVL, Canolty et al. 2006)\n",
      "    compute surrogates (Swap amplitude time blocks (Bahramisharif et al. 2013), 200 permutations, random_state=6973)\n",
      "    infer p-values at (p=0.05, mcp=maxstat)\n",
      "    normalize true PAC estimation by surrogates (Substract the mean and divide by the deviation of the surrogates)\n",
      "    true PAC estimation using Mean Vector Length (MVL, Canolty et al. 2006)\n",
      "    compute surrogates (Swap amplitude time blocks (Bahramisharif et al. 2013), 200 permutations, random_state=0)\n",
      "    infer p-values at (p=0.05, mcp=maxstat)\n",
      "    normalize true PAC estimation by surrogates (Substract the mean and divide by the deviation of the surrogates)\n",
      "    infer p-values at (p=0.05, mcp=maxstat)\n",
      "Event Related PAC object defined\n",
      "    Extract phases (n_pha=1) and amplitudes (n_amps=56)\n"
     ]
    },
    {
     "name": "stdout",
     "output_type": "stream",
     "text": [
      "[6, 14]\n"
     ]
    },
    {
     "name": "stderr",
     "output_type": "stream",
     "text": [
      "    Compute Gaussian-Copula ERPAC\n",
      "Phase Amplitude Coupling object defined\n"
     ]
    },
    {
     "name": "stdout",
     "output_type": "stream",
     "text": [
      "(6, 14, 3, 0.2)\n"
     ]
    },
    {
     "name": "stderr",
     "output_type": "stream",
     "text": [
      "    true PAC estimation using Mean Vector Length (MVL, Canolty et al. 2006)\n",
      "    compute surrogates (Swap amplitude time blocks (Bahramisharif et al. 2013), 200 permutations, random_state=3561)\n",
      "    infer p-values at (p=0.05, mcp=maxstat)\n",
      "    normalize true PAC estimation by surrogates (Substract the mean and divide by the deviation of the surrogates)\n",
      "    true PAC estimation using Mean Vector Length (MVL, Canolty et al. 2006)\n",
      "    compute surrogates (Swap amplitude time blocks (Bahramisharif et al. 2013), 200 permutations, random_state=0)\n",
      "    infer p-values at (p=0.05, mcp=maxstat)\n",
      "    normalize true PAC estimation by surrogates (Substract the mean and divide by the deviation of the surrogates)\n",
      "    infer p-values at (p=0.05, mcp=maxstat)\n",
      "Event Related PAC object defined\n",
      "    Extract phases (n_pha=1) and amplitudes (n_amps=36)\n"
     ]
    },
    {
     "name": "stdout",
     "output_type": "stream",
     "text": [
      "DATA: (n_trials, n_times)=(2835, 601); SAMPLING FREQUENCY=500.0Hz; TIME VECTOR: n_times=601\n",
      "[3, 9]\n"
     ]
    },
    {
     "name": "stderr",
     "output_type": "stream",
     "text": [
      "    Compute Gaussian-Copula ERPAC\n",
      "Phase Amplitude Coupling object defined\n"
     ]
    },
    {
     "name": "stdout",
     "output_type": "stream",
     "text": [
      "(3, 9, 3, 0.2)\n"
     ]
    },
    {
     "name": "stderr",
     "output_type": "stream",
     "text": [
      "    true PAC estimation using Mean Vector Length (MVL, Canolty et al. 2006)\n",
      "    compute surrogates (Swap amplitude time blocks (Bahramisharif et al. 2013), 200 permutations, random_state=1526)\n",
      "    infer p-values at (p=0.05, mcp=maxstat)\n",
      "    normalize true PAC estimation by surrogates (Substract the mean and divide by the deviation of the surrogates)\n",
      "    true PAC estimation using Mean Vector Length (MVL, Canolty et al. 2006)\n",
      "    compute surrogates (Swap amplitude time blocks (Bahramisharif et al. 2013), 200 permutations, random_state=0)\n",
      "    infer p-values at (p=0.05, mcp=maxstat)\n",
      "    normalize true PAC estimation by surrogates (Substract the mean and divide by the deviation of the surrogates)\n",
      "    infer p-values at (p=0.05, mcp=maxstat)\n",
      "Event Related PAC object defined\n",
      "    Extract phases (n_pha=1) and amplitudes (n_amps=56)\n"
     ]
    },
    {
     "name": "stdout",
     "output_type": "stream",
     "text": [
      "[6, 14]\n"
     ]
    },
    {
     "name": "stderr",
     "output_type": "stream",
     "text": [
      "    Compute Gaussian-Copula ERPAC\n",
      "Phase Amplitude Coupling object defined\n"
     ]
    },
    {
     "name": "stdout",
     "output_type": "stream",
     "text": [
      "(6, 14, 3, 0.2)\n"
     ]
    },
    {
     "name": "stderr",
     "output_type": "stream",
     "text": [
      "    true PAC estimation using Mean Vector Length (MVL, Canolty et al. 2006)\n",
      "    compute surrogates (Swap amplitude time blocks (Bahramisharif et al. 2013), 200 permutations, random_state=1096)\n",
      "    infer p-values at (p=0.05, mcp=maxstat)\n",
      "    normalize true PAC estimation by surrogates (Substract the mean and divide by the deviation of the surrogates)\n",
      "    true PAC estimation using Mean Vector Length (MVL, Canolty et al. 2006)\n",
      "    compute surrogates (Swap amplitude time blocks (Bahramisharif et al. 2013), 200 permutations, random_state=0)\n",
      "    infer p-values at (p=0.05, mcp=maxstat)\n",
      "    normalize true PAC estimation by surrogates (Substract the mean and divide by the deviation of the surrogates)\n",
      "    infer p-values at (p=0.05, mcp=maxstat)\n",
      "Event Related PAC object defined\n",
      "    Extract phases (n_pha=1) and amplitudes (n_amps=36)\n"
     ]
    },
    {
     "name": "stdout",
     "output_type": "stream",
     "text": [
      "DATA: (n_trials, n_times)=(2835, 601); SAMPLING FREQUENCY=500.0Hz; TIME VECTOR: n_times=601\n",
      "[3, 9]\n"
     ]
    },
    {
     "name": "stderr",
     "output_type": "stream",
     "text": [
      "    Compute Gaussian-Copula ERPAC\n",
      "Phase Amplitude Coupling object defined\n"
     ]
    },
    {
     "name": "stdout",
     "output_type": "stream",
     "text": [
      "(3, 9, 3, 0.2)\n"
     ]
    },
    {
     "name": "stderr",
     "output_type": "stream",
     "text": [
      "    true PAC estimation using Mean Vector Length (MVL, Canolty et al. 2006)\n",
      "    compute surrogates (Swap amplitude time blocks (Bahramisharif et al. 2013), 200 permutations, random_state=8143)\n",
      "    infer p-values at (p=0.05, mcp=maxstat)\n",
      "    normalize true PAC estimation by surrogates (Substract the mean and divide by the deviation of the surrogates)\n",
      "    true PAC estimation using Mean Vector Length (MVL, Canolty et al. 2006)\n",
      "    compute surrogates (Swap amplitude time blocks (Bahramisharif et al. 2013), 200 permutations, random_state=0)\n",
      "    infer p-values at (p=0.05, mcp=maxstat)\n",
      "    normalize true PAC estimation by surrogates (Substract the mean and divide by the deviation of the surrogates)\n",
      "    infer p-values at (p=0.05, mcp=maxstat)\n",
      "Event Related PAC object defined\n",
      "    Extract phases (n_pha=1) and amplitudes (n_amps=56)\n"
     ]
    },
    {
     "name": "stdout",
     "output_type": "stream",
     "text": [
      "[6, 14]\n"
     ]
    },
    {
     "name": "stderr",
     "output_type": "stream",
     "text": [
      "    Compute Gaussian-Copula ERPAC\n",
      "Phase Amplitude Coupling object defined\n"
     ]
    },
    {
     "name": "stdout",
     "output_type": "stream",
     "text": [
      "(6, 14, 3, 0.2)\n"
     ]
    },
    {
     "name": "stderr",
     "output_type": "stream",
     "text": [
      "    true PAC estimation using Mean Vector Length (MVL, Canolty et al. 2006)\n",
      "    compute surrogates (Swap amplitude time blocks (Bahramisharif et al. 2013), 200 permutations, random_state=6580)\n",
      "    infer p-values at (p=0.05, mcp=maxstat)\n",
      "    normalize true PAC estimation by surrogates (Substract the mean and divide by the deviation of the surrogates)\n",
      "    true PAC estimation using Mean Vector Length (MVL, Canolty et al. 2006)\n",
      "    compute surrogates (Swap amplitude time blocks (Bahramisharif et al. 2013), 200 permutations, random_state=0)\n",
      "    infer p-values at (p=0.05, mcp=maxstat)\n",
      "    normalize true PAC estimation by surrogates (Substract the mean and divide by the deviation of the surrogates)\n",
      "    infer p-values at (p=0.05, mcp=maxstat)\n",
      "Event Related PAC object defined\n",
      "    Extract phases (n_pha=1) and amplitudes (n_amps=36)\n"
     ]
    },
    {
     "name": "stdout",
     "output_type": "stream",
     "text": [
      "DATA: (n_trials, n_times)=(2835, 601); SAMPLING FREQUENCY=500.0Hz; TIME VECTOR: n_times=601\n",
      "[3, 9]\n"
     ]
    },
    {
     "name": "stderr",
     "output_type": "stream",
     "text": [
      "    Compute Gaussian-Copula ERPAC\n",
      "Phase Amplitude Coupling object defined\n"
     ]
    },
    {
     "name": "stdout",
     "output_type": "stream",
     "text": [
      "(3, 9, 3, 0.2)\n"
     ]
    },
    {
     "name": "stderr",
     "output_type": "stream",
     "text": [
      "    true PAC estimation using Mean Vector Length (MVL, Canolty et al. 2006)\n",
      "    compute surrogates (Swap amplitude time blocks (Bahramisharif et al. 2013), 200 permutations, random_state=2774)\n",
      "    infer p-values at (p=0.05, mcp=maxstat)\n",
      "    normalize true PAC estimation by surrogates (Substract the mean and divide by the deviation of the surrogates)\n",
      "    true PAC estimation using Mean Vector Length (MVL, Canolty et al. 2006)\n",
      "    compute surrogates (Swap amplitude time blocks (Bahramisharif et al. 2013), 200 permutations, random_state=0)\n",
      "    infer p-values at (p=0.05, mcp=maxstat)\n",
      "    normalize true PAC estimation by surrogates (Substract the mean and divide by the deviation of the surrogates)\n",
      "    infer p-values at (p=0.05, mcp=maxstat)\n",
      "Event Related PAC object defined\n",
      "    Extract phases (n_pha=1) and amplitudes (n_amps=56)\n"
     ]
    },
    {
     "name": "stdout",
     "output_type": "stream",
     "text": [
      "[6, 14]\n"
     ]
    },
    {
     "name": "stderr",
     "output_type": "stream",
     "text": [
      "    Compute Gaussian-Copula ERPAC\n",
      "Phase Amplitude Coupling object defined\n"
     ]
    },
    {
     "name": "stdout",
     "output_type": "stream",
     "text": [
      "(6, 14, 3, 0.2)\n"
     ]
    },
    {
     "name": "stderr",
     "output_type": "stream",
     "text": [
      "    true PAC estimation using Mean Vector Length (MVL, Canolty et al. 2006)\n",
      "    compute surrogates (Swap amplitude time blocks (Bahramisharif et al. 2013), 200 permutations, random_state=6694)\n",
      "    infer p-values at (p=0.05, mcp=maxstat)\n",
      "    normalize true PAC estimation by surrogates (Substract the mean and divide by the deviation of the surrogates)\n",
      "    true PAC estimation using Mean Vector Length (MVL, Canolty et al. 2006)\n",
      "    compute surrogates (Swap amplitude time blocks (Bahramisharif et al. 2013), 200 permutations, random_state=0)\n",
      "    infer p-values at (p=0.05, mcp=maxstat)\n",
      "    normalize true PAC estimation by surrogates (Substract the mean and divide by the deviation of the surrogates)\n",
      "    infer p-values at (p=0.05, mcp=maxstat)\n",
      "Event Related PAC object defined\n",
      "    Extract phases (n_pha=1) and amplitudes (n_amps=36)\n"
     ]
    },
    {
     "name": "stdout",
     "output_type": "stream",
     "text": [
      "DATA: (n_trials, n_times)=(2835, 601); SAMPLING FREQUENCY=500.0Hz; TIME VECTOR: n_times=601\n",
      "[3, 9]\n"
     ]
    },
    {
     "name": "stderr",
     "output_type": "stream",
     "text": [
      "    Compute Gaussian-Copula ERPAC\n",
      "Phase Amplitude Coupling object defined\n"
     ]
    },
    {
     "name": "stdout",
     "output_type": "stream",
     "text": [
      "(3, 9, 3, 0.2)\n"
     ]
    },
    {
     "name": "stderr",
     "output_type": "stream",
     "text": [
      "    true PAC estimation using Mean Vector Length (MVL, Canolty et al. 2006)\n",
      "    compute surrogates (Swap amplitude time blocks (Bahramisharif et al. 2013), 200 permutations, random_state=1370)\n",
      "    infer p-values at (p=0.05, mcp=maxstat)\n",
      "    normalize true PAC estimation by surrogates (Substract the mean and divide by the deviation of the surrogates)\n",
      "    true PAC estimation using Mean Vector Length (MVL, Canolty et al. 2006)\n",
      "    compute surrogates (Swap amplitude time blocks (Bahramisharif et al. 2013), 200 permutations, random_state=0)\n",
      "    infer p-values at (p=0.05, mcp=maxstat)\n",
      "    normalize true PAC estimation by surrogates (Substract the mean and divide by the deviation of the surrogates)\n",
      "    infer p-values at (p=0.05, mcp=maxstat)\n",
      "Event Related PAC object defined\n",
      "    Extract phases (n_pha=1) and amplitudes (n_amps=56)\n"
     ]
    },
    {
     "name": "stdout",
     "output_type": "stream",
     "text": [
      "[6, 14]\n"
     ]
    },
    {
     "name": "stderr",
     "output_type": "stream",
     "text": [
      "    Compute Gaussian-Copula ERPAC\n",
      "Phase Amplitude Coupling object defined\n"
     ]
    },
    {
     "name": "stdout",
     "output_type": "stream",
     "text": [
      "(6, 14, 3, 0.2)\n"
     ]
    },
    {
     "name": "stderr",
     "output_type": "stream",
     "text": [
      "    true PAC estimation using Mean Vector Length (MVL, Canolty et al. 2006)\n",
      "    compute surrogates (Swap amplitude time blocks (Bahramisharif et al. 2013), 200 permutations, random_state=8214)\n",
      "    infer p-values at (p=0.05, mcp=maxstat)\n",
      "    normalize true PAC estimation by surrogates (Substract the mean and divide by the deviation of the surrogates)\n",
      "    true PAC estimation using Mean Vector Length (MVL, Canolty et al. 2006)\n",
      "    compute surrogates (Swap amplitude time blocks (Bahramisharif et al. 2013), 200 permutations, random_state=0)\n",
      "    infer p-values at (p=0.05, mcp=maxstat)\n",
      "    normalize true PAC estimation by surrogates (Substract the mean and divide by the deviation of the surrogates)\n",
      "    infer p-values at (p=0.05, mcp=maxstat)\n",
      "Event Related PAC object defined\n",
      "    Extract phases (n_pha=1) and amplitudes (n_amps=36)\n"
     ]
    },
    {
     "name": "stdout",
     "output_type": "stream",
     "text": [
      "DATA: (n_trials, n_times)=(2835, 601); SAMPLING FREQUENCY=500.0Hz; TIME VECTOR: n_times=601\n",
      "[3, 9]\n"
     ]
    },
    {
     "name": "stderr",
     "output_type": "stream",
     "text": [
      "    Compute Gaussian-Copula ERPAC\n",
      "Phase Amplitude Coupling object defined\n"
     ]
    },
    {
     "name": "stdout",
     "output_type": "stream",
     "text": [
      "(3, 9, 3, 0.2)\n"
     ]
    },
    {
     "name": "stderr",
     "output_type": "stream",
     "text": [
      "    true PAC estimation using Mean Vector Length (MVL, Canolty et al. 2006)\n",
      "    compute surrogates (Swap amplitude time blocks (Bahramisharif et al. 2013), 200 permutations, random_state=343)\n",
      "    infer p-values at (p=0.05, mcp=maxstat)\n",
      "    normalize true PAC estimation by surrogates (Substract the mean and divide by the deviation of the surrogates)\n",
      "    true PAC estimation using Mean Vector Length (MVL, Canolty et al. 2006)\n",
      "    compute surrogates (Swap amplitude time blocks (Bahramisharif et al. 2013), 200 permutations, random_state=0)\n",
      "    infer p-values at (p=0.05, mcp=maxstat)\n",
      "    normalize true PAC estimation by surrogates (Substract the mean and divide by the deviation of the surrogates)\n",
      "    infer p-values at (p=0.05, mcp=maxstat)\n",
      "Event Related PAC object defined\n",
      "    Extract phases (n_pha=1) and amplitudes (n_amps=56)\n"
     ]
    },
    {
     "name": "stdout",
     "output_type": "stream",
     "text": [
      "[6, 14]\n"
     ]
    },
    {
     "name": "stderr",
     "output_type": "stream",
     "text": [
      "    Compute Gaussian-Copula ERPAC\n",
      "Phase Amplitude Coupling object defined\n"
     ]
    },
    {
     "name": "stdout",
     "output_type": "stream",
     "text": [
      "(6, 14, 3, 0.2)\n"
     ]
    },
    {
     "name": "stderr",
     "output_type": "stream",
     "text": [
      "    true PAC estimation using Mean Vector Length (MVL, Canolty et al. 2006)\n",
      "    compute surrogates (Swap amplitude time blocks (Bahramisharif et al. 2013), 200 permutations, random_state=3216)\n",
      "    infer p-values at (p=0.05, mcp=maxstat)\n",
      "    normalize true PAC estimation by surrogates (Substract the mean and divide by the deviation of the surrogates)\n",
      "    true PAC estimation using Mean Vector Length (MVL, Canolty et al. 2006)\n",
      "    compute surrogates (Swap amplitude time blocks (Bahramisharif et al. 2013), 200 permutations, random_state=0)\n",
      "    infer p-values at (p=0.05, mcp=maxstat)\n",
      "    normalize true PAC estimation by surrogates (Substract the mean and divide by the deviation of the surrogates)\n",
      "    infer p-values at (p=0.05, mcp=maxstat)\n",
      "Event Related PAC object defined\n",
      "    Extract phases (n_pha=1) and amplitudes (n_amps=36)\n"
     ]
    },
    {
     "name": "stdout",
     "output_type": "stream",
     "text": [
      "DATA: (n_trials, n_times)=(2835, 601); SAMPLING FREQUENCY=500.0Hz; TIME VECTOR: n_times=601\n",
      "[3, 9]\n"
     ]
    },
    {
     "name": "stderr",
     "output_type": "stream",
     "text": [
      "    Compute Gaussian-Copula ERPAC\n",
      "Phase Amplitude Coupling object defined\n"
     ]
    },
    {
     "name": "stdout",
     "output_type": "stream",
     "text": [
      "(3, 9, 3, 0.2)\n"
     ]
    },
    {
     "name": "stderr",
     "output_type": "stream",
     "text": [
      "    true PAC estimation using Mean Vector Length (MVL, Canolty et al. 2006)\n",
      "    compute surrogates (Swap amplitude time blocks (Bahramisharif et al. 2013), 200 permutations, random_state=2085)\n",
      "    infer p-values at (p=0.05, mcp=maxstat)\n",
      "    normalize true PAC estimation by surrogates (Substract the mean and divide by the deviation of the surrogates)\n",
      "    true PAC estimation using Mean Vector Length (MVL, Canolty et al. 2006)\n",
      "    compute surrogates (Swap amplitude time blocks (Bahramisharif et al. 2013), 200 permutations, random_state=0)\n",
      "    infer p-values at (p=0.05, mcp=maxstat)\n",
      "    normalize true PAC estimation by surrogates (Substract the mean and divide by the deviation of the surrogates)\n",
      "    infer p-values at (p=0.05, mcp=maxstat)\n",
      "Event Related PAC object defined\n",
      "    Extract phases (n_pha=1) and amplitudes (n_amps=56)\n"
     ]
    },
    {
     "name": "stdout",
     "output_type": "stream",
     "text": [
      "[6, 14]\n"
     ]
    },
    {
     "name": "stderr",
     "output_type": "stream",
     "text": [
      "    Compute Gaussian-Copula ERPAC\n",
      "Phase Amplitude Coupling object defined\n"
     ]
    },
    {
     "name": "stdout",
     "output_type": "stream",
     "text": [
      "(6, 14, 3, 0.2)\n"
     ]
    },
    {
     "name": "stderr",
     "output_type": "stream",
     "text": [
      "    true PAC estimation using Mean Vector Length (MVL, Canolty et al. 2006)\n",
      "    compute surrogates (Swap amplitude time blocks (Bahramisharif et al. 2013), 200 permutations, random_state=4976)\n",
      "    infer p-values at (p=0.05, mcp=maxstat)\n",
      "    normalize true PAC estimation by surrogates (Substract the mean and divide by the deviation of the surrogates)\n",
      "    true PAC estimation using Mean Vector Length (MVL, Canolty et al. 2006)\n",
      "    compute surrogates (Swap amplitude time blocks (Bahramisharif et al. 2013), 200 permutations, random_state=0)\n",
      "    infer p-values at (p=0.05, mcp=maxstat)\n",
      "    normalize true PAC estimation by surrogates (Substract the mean and divide by the deviation of the surrogates)\n",
      "    infer p-values at (p=0.05, mcp=maxstat)\n",
      "Event Related PAC object defined\n",
      "    Extract phases (n_pha=1) and amplitudes (n_amps=36)\n"
     ]
    },
    {
     "name": "stdout",
     "output_type": "stream",
     "text": [
      "DATA: (n_trials, n_times)=(2835, 601); SAMPLING FREQUENCY=500.0Hz; TIME VECTOR: n_times=601\n",
      "[3, 9]\n"
     ]
    },
    {
     "name": "stderr",
     "output_type": "stream",
     "text": [
      "    Compute Gaussian-Copula ERPAC\n",
      "Phase Amplitude Coupling object defined\n"
     ]
    },
    {
     "name": "stdout",
     "output_type": "stream",
     "text": [
      "(3, 9, 3, 0.2)\n"
     ]
    },
    {
     "name": "stderr",
     "output_type": "stream",
     "text": [
      "    true PAC estimation using Mean Vector Length (MVL, Canolty et al. 2006)\n",
      "    compute surrogates (Swap amplitude time blocks (Bahramisharif et al. 2013), 200 permutations, random_state=7808)\n",
      "    infer p-values at (p=0.05, mcp=maxstat)\n",
      "    normalize true PAC estimation by surrogates (Substract the mean and divide by the deviation of the surrogates)\n",
      "    true PAC estimation using Mean Vector Length (MVL, Canolty et al. 2006)\n",
      "    compute surrogates (Swap amplitude time blocks (Bahramisharif et al. 2013), 200 permutations, random_state=0)\n",
      "    infer p-values at (p=0.05, mcp=maxstat)\n",
      "    normalize true PAC estimation by surrogates (Substract the mean and divide by the deviation of the surrogates)\n",
      "    infer p-values at (p=0.05, mcp=maxstat)\n",
      "Event Related PAC object defined\n",
      "    Extract phases (n_pha=1) and amplitudes (n_amps=56)\n"
     ]
    },
    {
     "name": "stdout",
     "output_type": "stream",
     "text": [
      "[6, 14]\n"
     ]
    },
    {
     "name": "stderr",
     "output_type": "stream",
     "text": [
      "    Compute Gaussian-Copula ERPAC\n",
      "Phase Amplitude Coupling object defined\n"
     ]
    },
    {
     "name": "stdout",
     "output_type": "stream",
     "text": [
      "(6, 14, 3, 0.2)\n"
     ]
    },
    {
     "name": "stderr",
     "output_type": "stream",
     "text": [
      "    true PAC estimation using Mean Vector Length (MVL, Canolty et al. 2006)\n",
      "    compute surrogates (Swap amplitude time blocks (Bahramisharif et al. 2013), 200 permutations, random_state=2611)\n",
      "    infer p-values at (p=0.05, mcp=maxstat)\n",
      "    normalize true PAC estimation by surrogates (Substract the mean and divide by the deviation of the surrogates)\n",
      "    true PAC estimation using Mean Vector Length (MVL, Canolty et al. 2006)\n",
      "    compute surrogates (Swap amplitude time blocks (Bahramisharif et al. 2013), 200 permutations, random_state=0)\n",
      "    infer p-values at (p=0.05, mcp=maxstat)\n",
      "    normalize true PAC estimation by surrogates (Substract the mean and divide by the deviation of the surrogates)\n",
      "    infer p-values at (p=0.05, mcp=maxstat)\n",
      "Event Related PAC object defined\n",
      "    Extract phases (n_pha=1) and amplitudes (n_amps=36)\n"
     ]
    },
    {
     "name": "stdout",
     "output_type": "stream",
     "text": [
      "DATA: (n_trials, n_times)=(2835, 601); SAMPLING FREQUENCY=500.0Hz; TIME VECTOR: n_times=601\n",
      "[3, 9]\n"
     ]
    },
    {
     "name": "stderr",
     "output_type": "stream",
     "text": [
      "    Compute Gaussian-Copula ERPAC\n",
      "Phase Amplitude Coupling object defined\n"
     ]
    },
    {
     "name": "stdout",
     "output_type": "stream",
     "text": [
      "(3, 9, 3, 0.2)\n"
     ]
    },
    {
     "name": "stderr",
     "output_type": "stream",
     "text": [
      "    true PAC estimation using Mean Vector Length (MVL, Canolty et al. 2006)\n",
      "    compute surrogates (Swap amplitude time blocks (Bahramisharif et al. 2013), 200 permutations, random_state=1011)\n",
      "    infer p-values at (p=0.05, mcp=maxstat)\n",
      "    normalize true PAC estimation by surrogates (Substract the mean and divide by the deviation of the surrogates)\n",
      "    true PAC estimation using Mean Vector Length (MVL, Canolty et al. 2006)\n",
      "    compute surrogates (Swap amplitude time blocks (Bahramisharif et al. 2013), 200 permutations, random_state=0)\n",
      "    infer p-values at (p=0.05, mcp=maxstat)\n",
      "    normalize true PAC estimation by surrogates (Substract the mean and divide by the deviation of the surrogates)\n",
      "    infer p-values at (p=0.05, mcp=maxstat)\n",
      "Event Related PAC object defined\n",
      "    Extract phases (n_pha=1) and amplitudes (n_amps=56)\n"
     ]
    },
    {
     "name": "stdout",
     "output_type": "stream",
     "text": [
      "[6, 14]\n"
     ]
    },
    {
     "name": "stderr",
     "output_type": "stream",
     "text": [
      "    Compute Gaussian-Copula ERPAC\n",
      "Phase Amplitude Coupling object defined\n"
     ]
    },
    {
     "name": "stdout",
     "output_type": "stream",
     "text": [
      "(6, 14, 3, 0.2)\n"
     ]
    },
    {
     "name": "stderr",
     "output_type": "stream",
     "text": [
      "    true PAC estimation using Mean Vector Length (MVL, Canolty et al. 2006)\n",
      "    compute surrogates (Swap amplitude time blocks (Bahramisharif et al. 2013), 200 permutations, random_state=1184)\n",
      "    infer p-values at (p=0.05, mcp=maxstat)\n",
      "    normalize true PAC estimation by surrogates (Substract the mean and divide by the deviation of the surrogates)\n",
      "    true PAC estimation using Mean Vector Length (MVL, Canolty et al. 2006)\n",
      "    compute surrogates (Swap amplitude time blocks (Bahramisharif et al. 2013), 200 permutations, random_state=0)\n",
      "    infer p-values at (p=0.05, mcp=maxstat)\n",
      "    normalize true PAC estimation by surrogates (Substract the mean and divide by the deviation of the surrogates)\n",
      "    infer p-values at (p=0.05, mcp=maxstat)\n",
      "Event Related PAC object defined\n",
      "    Extract phases (n_pha=1) and amplitudes (n_amps=36)\n"
     ]
    },
    {
     "name": "stdout",
     "output_type": "stream",
     "text": [
      "DATA: (n_trials, n_times)=(2835, 601); SAMPLING FREQUENCY=500.0Hz; TIME VECTOR: n_times=601\n",
      "[3, 9]\n"
     ]
    },
    {
     "name": "stderr",
     "output_type": "stream",
     "text": [
      "    Compute Gaussian-Copula ERPAC\n",
      "Phase Amplitude Coupling object defined\n"
     ]
    },
    {
     "name": "stdout",
     "output_type": "stream",
     "text": [
      "(3, 9, 3, 0.2)\n"
     ]
    },
    {
     "name": "stderr",
     "output_type": "stream",
     "text": [
      "    true PAC estimation using Mean Vector Length (MVL, Canolty et al. 2006)\n",
      "    compute surrogates (Swap amplitude time blocks (Bahramisharif et al. 2013), 200 permutations, random_state=3756)\n",
      "    infer p-values at (p=0.05, mcp=maxstat)\n",
      "    normalize true PAC estimation by surrogates (Substract the mean and divide by the deviation of the surrogates)\n",
      "    true PAC estimation using Mean Vector Length (MVL, Canolty et al. 2006)\n",
      "    compute surrogates (Swap amplitude time blocks (Bahramisharif et al. 2013), 200 permutations, random_state=0)\n",
      "    infer p-values at (p=0.05, mcp=maxstat)\n",
      "    normalize true PAC estimation by surrogates (Substract the mean and divide by the deviation of the surrogates)\n",
      "    infer p-values at (p=0.05, mcp=maxstat)\n",
      "Event Related PAC object defined\n",
      "    Extract phases (n_pha=1) and amplitudes (n_amps=56)\n"
     ]
    },
    {
     "name": "stdout",
     "output_type": "stream",
     "text": [
      "[6, 14]\n"
     ]
    },
    {
     "name": "stderr",
     "output_type": "stream",
     "text": [
      "    Compute Gaussian-Copula ERPAC\n",
      "Phase Amplitude Coupling object defined\n"
     ]
    },
    {
     "name": "stdout",
     "output_type": "stream",
     "text": [
      "(6, 14, 3, 0.2)\n"
     ]
    },
    {
     "name": "stderr",
     "output_type": "stream",
     "text": [
      "    true PAC estimation using Mean Vector Length (MVL, Canolty et al. 2006)\n",
      "    compute surrogates (Swap amplitude time blocks (Bahramisharif et al. 2013), 200 permutations, random_state=443)\n",
      "    infer p-values at (p=0.05, mcp=maxstat)\n",
      "    normalize true PAC estimation by surrogates (Substract the mean and divide by the deviation of the surrogates)\n",
      "    true PAC estimation using Mean Vector Length (MVL, Canolty et al. 2006)\n",
      "    compute surrogates (Swap amplitude time blocks (Bahramisharif et al. 2013), 200 permutations, random_state=0)\n",
      "    infer p-values at (p=0.05, mcp=maxstat)\n",
      "    normalize true PAC estimation by surrogates (Substract the mean and divide by the deviation of the surrogates)\n",
      "    infer p-values at (p=0.05, mcp=maxstat)\n",
      "Event Related PAC object defined\n",
      "    Extract phases (n_pha=1) and amplitudes (n_amps=36)\n"
     ]
    },
    {
     "name": "stdout",
     "output_type": "stream",
     "text": [
      "DATA: (n_trials, n_times)=(2835, 601); SAMPLING FREQUENCY=500.0Hz; TIME VECTOR: n_times=601\n",
      "[3, 9]\n"
     ]
    },
    {
     "name": "stderr",
     "output_type": "stream",
     "text": [
      "    Compute Gaussian-Copula ERPAC\n",
      "Phase Amplitude Coupling object defined\n"
     ]
    },
    {
     "name": "stdout",
     "output_type": "stream",
     "text": [
      "(3, 9, 3, 0.2)\n"
     ]
    },
    {
     "name": "stderr",
     "output_type": "stream",
     "text": [
      "    true PAC estimation using Mean Vector Length (MVL, Canolty et al. 2006)\n",
      "    compute surrogates (Swap amplitude time blocks (Bahramisharif et al. 2013), 200 permutations, random_state=9346)\n",
      "    infer p-values at (p=0.05, mcp=maxstat)\n",
      "    normalize true PAC estimation by surrogates (Substract the mean and divide by the deviation of the surrogates)\n",
      "    true PAC estimation using Mean Vector Length (MVL, Canolty et al. 2006)\n",
      "    compute surrogates (Swap amplitude time blocks (Bahramisharif et al. 2013), 200 permutations, random_state=0)\n",
      "    infer p-values at (p=0.05, mcp=maxstat)\n",
      "    normalize true PAC estimation by surrogates (Substract the mean and divide by the deviation of the surrogates)\n",
      "    infer p-values at (p=0.05, mcp=maxstat)\n",
      "Event Related PAC object defined\n",
      "    Extract phases (n_pha=1) and amplitudes (n_amps=56)\n"
     ]
    },
    {
     "name": "stdout",
     "output_type": "stream",
     "text": [
      "[6, 14]\n"
     ]
    },
    {
     "name": "stderr",
     "output_type": "stream",
     "text": [
      "    Compute Gaussian-Copula ERPAC\n",
      "Phase Amplitude Coupling object defined\n"
     ]
    },
    {
     "name": "stdout",
     "output_type": "stream",
     "text": [
      "(6, 14, 3, 0.2)\n"
     ]
    },
    {
     "name": "stderr",
     "output_type": "stream",
     "text": [
      "    true PAC estimation using Mean Vector Length (MVL, Canolty et al. 2006)\n",
      "    compute surrogates (Swap amplitude time blocks (Bahramisharif et al. 2013), 200 permutations, random_state=7857)\n",
      "    infer p-values at (p=0.05, mcp=maxstat)\n",
      "    normalize true PAC estimation by surrogates (Substract the mean and divide by the deviation of the surrogates)\n",
      "    true PAC estimation using Mean Vector Length (MVL, Canolty et al. 2006)\n",
      "    compute surrogates (Swap amplitude time blocks (Bahramisharif et al. 2013), 200 permutations, random_state=0)\n",
      "    infer p-values at (p=0.05, mcp=maxstat)\n",
      "    normalize true PAC estimation by surrogates (Substract the mean and divide by the deviation of the surrogates)\n",
      "    infer p-values at (p=0.05, mcp=maxstat)\n",
      "Event Related PAC object defined\n",
      "    Extract phases (n_pha=1) and amplitudes (n_amps=36)\n"
     ]
    },
    {
     "name": "stdout",
     "output_type": "stream",
     "text": [
      "DATA: (n_trials, n_times)=(2835, 601); SAMPLING FREQUENCY=500.0Hz; TIME VECTOR: n_times=601\n",
      "[3, 9]\n"
     ]
    },
    {
     "name": "stderr",
     "output_type": "stream",
     "text": [
      "    Compute Gaussian-Copula ERPAC\n",
      "Phase Amplitude Coupling object defined\n"
     ]
    },
    {
     "name": "stdout",
     "output_type": "stream",
     "text": [
      "(3, 9, 3, 0.2)\n"
     ]
    },
    {
     "name": "stderr",
     "output_type": "stream",
     "text": [
      "    true PAC estimation using Mean Vector Length (MVL, Canolty et al. 2006)\n",
      "    compute surrogates (Swap amplitude time blocks (Bahramisharif et al. 2013), 200 permutations, random_state=6838)\n",
      "    infer p-values at (p=0.05, mcp=maxstat)\n",
      "    normalize true PAC estimation by surrogates (Substract the mean and divide by the deviation of the surrogates)\n",
      "    true PAC estimation using Mean Vector Length (MVL, Canolty et al. 2006)\n",
      "    compute surrogates (Swap amplitude time blocks (Bahramisharif et al. 2013), 200 permutations, random_state=0)\n",
      "    infer p-values at (p=0.05, mcp=maxstat)\n",
      "    normalize true PAC estimation by surrogates (Substract the mean and divide by the deviation of the surrogates)\n",
      "    infer p-values at (p=0.05, mcp=maxstat)\n",
      "Event Related PAC object defined\n",
      "    Extract phases (n_pha=1) and amplitudes (n_amps=56)\n"
     ]
    },
    {
     "name": "stdout",
     "output_type": "stream",
     "text": [
      "[6, 14]\n"
     ]
    },
    {
     "name": "stderr",
     "output_type": "stream",
     "text": [
      "    Compute Gaussian-Copula ERPAC\n",
      "Phase Amplitude Coupling object defined\n"
     ]
    },
    {
     "name": "stdout",
     "output_type": "stream",
     "text": [
      "(6, 14, 3, 0.2)\n"
     ]
    },
    {
     "name": "stderr",
     "output_type": "stream",
     "text": [
      "    true PAC estimation using Mean Vector Length (MVL, Canolty et al. 2006)\n",
      "    compute surrogates (Swap amplitude time blocks (Bahramisharif et al. 2013), 200 permutations, random_state=5743)\n",
      "    infer p-values at (p=0.05, mcp=maxstat)\n",
      "    normalize true PAC estimation by surrogates (Substract the mean and divide by the deviation of the surrogates)\n",
      "    true PAC estimation using Mean Vector Length (MVL, Canolty et al. 2006)\n",
      "    compute surrogates (Swap amplitude time blocks (Bahramisharif et al. 2013), 200 permutations, random_state=0)\n",
      "    infer p-values at (p=0.05, mcp=maxstat)\n",
      "    normalize true PAC estimation by surrogates (Substract the mean and divide by the deviation of the surrogates)\n",
      "    infer p-values at (p=0.05, mcp=maxstat)\n",
      "Event Related PAC object defined\n",
      "    Extract phases (n_pha=1) and amplitudes (n_amps=36)\n"
     ]
    },
    {
     "name": "stdout",
     "output_type": "stream",
     "text": [
      "DATA: (n_trials, n_times)=(2835, 601); SAMPLING FREQUENCY=500.0Hz; TIME VECTOR: n_times=601\n",
      "[3, 9]\n"
     ]
    },
    {
     "name": "stderr",
     "output_type": "stream",
     "text": [
      "    Compute Gaussian-Copula ERPAC\n",
      "Phase Amplitude Coupling object defined\n"
     ]
    },
    {
     "name": "stdout",
     "output_type": "stream",
     "text": [
      "(3, 9, 3, 0.2)\n"
     ]
    },
    {
     "name": "stderr",
     "output_type": "stream",
     "text": [
      "    true PAC estimation using Mean Vector Length (MVL, Canolty et al. 2006)\n",
      "    compute surrogates (Swap amplitude time blocks (Bahramisharif et al. 2013), 200 permutations, random_state=4527)\n",
      "    infer p-values at (p=0.05, mcp=maxstat)\n",
      "    normalize true PAC estimation by surrogates (Substract the mean and divide by the deviation of the surrogates)\n",
      "    true PAC estimation using Mean Vector Length (MVL, Canolty et al. 2006)\n",
      "    compute surrogates (Swap amplitude time blocks (Bahramisharif et al. 2013), 200 permutations, random_state=0)\n",
      "    infer p-values at (p=0.05, mcp=maxstat)\n",
      "    normalize true PAC estimation by surrogates (Substract the mean and divide by the deviation of the surrogates)\n",
      "    infer p-values at (p=0.05, mcp=maxstat)\n",
      "Event Related PAC object defined\n",
      "    Extract phases (n_pha=1) and amplitudes (n_amps=56)\n"
     ]
    },
    {
     "name": "stdout",
     "output_type": "stream",
     "text": [
      "[6, 14]\n"
     ]
    },
    {
     "name": "stderr",
     "output_type": "stream",
     "text": [
      "    Compute Gaussian-Copula ERPAC\n",
      "Phase Amplitude Coupling object defined\n"
     ]
    },
    {
     "name": "stdout",
     "output_type": "stream",
     "text": [
      "(6, 14, 3, 0.2)\n"
     ]
    },
    {
     "name": "stderr",
     "output_type": "stream",
     "text": [
      "    true PAC estimation using Mean Vector Length (MVL, Canolty et al. 2006)\n",
      "    compute surrogates (Swap amplitude time blocks (Bahramisharif et al. 2013), 200 permutations, random_state=5110)\n",
      "    infer p-values at (p=0.05, mcp=maxstat)\n",
      "    normalize true PAC estimation by surrogates (Substract the mean and divide by the deviation of the surrogates)\n",
      "    true PAC estimation using Mean Vector Length (MVL, Canolty et al. 2006)\n",
      "    compute surrogates (Swap amplitude time blocks (Bahramisharif et al. 2013), 200 permutations, random_state=0)\n",
      "    infer p-values at (p=0.05, mcp=maxstat)\n",
      "    normalize true PAC estimation by surrogates (Substract the mean and divide by the deviation of the surrogates)\n",
      "    infer p-values at (p=0.05, mcp=maxstat)\n",
      "Event Related PAC object defined\n",
      "    Extract phases (n_pha=1) and amplitudes (n_amps=36)\n"
     ]
    },
    {
     "name": "stdout",
     "output_type": "stream",
     "text": [
      "DATA: (n_trials, n_times)=(2835, 601); SAMPLING FREQUENCY=500.0Hz; TIME VECTOR: n_times=601\n",
      "[3, 9]\n"
     ]
    },
    {
     "name": "stderr",
     "output_type": "stream",
     "text": [
      "    Compute Gaussian-Copula ERPAC\n",
      "Phase Amplitude Coupling object defined\n"
     ]
    },
    {
     "name": "stdout",
     "output_type": "stream",
     "text": [
      "(3, 9, 3, 0.2)\n"
     ]
    },
    {
     "name": "stderr",
     "output_type": "stream",
     "text": [
      "    true PAC estimation using Mean Vector Length (MVL, Canolty et al. 2006)\n",
      "    compute surrogates (Swap amplitude time blocks (Bahramisharif et al. 2013), 200 permutations, random_state=2302)\n",
      "    infer p-values at (p=0.05, mcp=maxstat)\n",
      "    normalize true PAC estimation by surrogates (Substract the mean and divide by the deviation of the surrogates)\n",
      "    true PAC estimation using Mean Vector Length (MVL, Canolty et al. 2006)\n",
      "    compute surrogates (Swap amplitude time blocks (Bahramisharif et al. 2013), 200 permutations, random_state=0)\n",
      "    infer p-values at (p=0.05, mcp=maxstat)\n",
      "    normalize true PAC estimation by surrogates (Substract the mean and divide by the deviation of the surrogates)\n",
      "    infer p-values at (p=0.05, mcp=maxstat)\n",
      "Event Related PAC object defined\n",
      "    Extract phases (n_pha=1) and amplitudes (n_amps=56)\n"
     ]
    },
    {
     "name": "stdout",
     "output_type": "stream",
     "text": [
      "[6, 14]\n"
     ]
    },
    {
     "name": "stderr",
     "output_type": "stream",
     "text": [
      "    Compute Gaussian-Copula ERPAC\n",
      "Phase Amplitude Coupling object defined\n"
     ]
    },
    {
     "name": "stdout",
     "output_type": "stream",
     "text": [
      "(6, 14, 3, 0.2)\n"
     ]
    },
    {
     "name": "stderr",
     "output_type": "stream",
     "text": [
      "    true PAC estimation using Mean Vector Length (MVL, Canolty et al. 2006)\n",
      "    compute surrogates (Swap amplitude time blocks (Bahramisharif et al. 2013), 200 permutations, random_state=6167)\n",
      "    infer p-values at (p=0.05, mcp=maxstat)\n",
      "    normalize true PAC estimation by surrogates (Substract the mean and divide by the deviation of the surrogates)\n",
      "    true PAC estimation using Mean Vector Length (MVL, Canolty et al. 2006)\n",
      "    compute surrogates (Swap amplitude time blocks (Bahramisharif et al. 2013), 200 permutations, random_state=0)\n",
      "    infer p-values at (p=0.05, mcp=maxstat)\n",
      "    normalize true PAC estimation by surrogates (Substract the mean and divide by the deviation of the surrogates)\n",
      "    infer p-values at (p=0.05, mcp=maxstat)\n",
      "Event Related PAC object defined\n",
      "    Extract phases (n_pha=1) and amplitudes (n_amps=36)\n"
     ]
    },
    {
     "name": "stdout",
     "output_type": "stream",
     "text": [
      "DATA: (n_trials, n_times)=(2835, 601); SAMPLING FREQUENCY=500.0Hz; TIME VECTOR: n_times=601\n",
      "[3, 9]\n"
     ]
    },
    {
     "name": "stderr",
     "output_type": "stream",
     "text": [
      "    Compute Gaussian-Copula ERPAC\n",
      "Phase Amplitude Coupling object defined\n"
     ]
    },
    {
     "name": "stdout",
     "output_type": "stream",
     "text": [
      "(3, 9, 3, 0.2)\n"
     ]
    },
    {
     "name": "stderr",
     "output_type": "stream",
     "text": [
      "    true PAC estimation using Mean Vector Length (MVL, Canolty et al. 2006)\n",
      "    compute surrogates (Swap amplitude time blocks (Bahramisharif et al. 2013), 200 permutations, random_state=5443)\n",
      "    infer p-values at (p=0.05, mcp=maxstat)\n",
      "    normalize true PAC estimation by surrogates (Substract the mean and divide by the deviation of the surrogates)\n",
      "    true PAC estimation using Mean Vector Length (MVL, Canolty et al. 2006)\n",
      "    compute surrogates (Swap amplitude time blocks (Bahramisharif et al. 2013), 200 permutations, random_state=0)\n",
      "    infer p-values at (p=0.05, mcp=maxstat)\n",
      "    normalize true PAC estimation by surrogates (Substract the mean and divide by the deviation of the surrogates)\n",
      "    infer p-values at (p=0.05, mcp=maxstat)\n",
      "Event Related PAC object defined\n",
      "    Extract phases (n_pha=1) and amplitudes (n_amps=56)\n"
     ]
    },
    {
     "name": "stdout",
     "output_type": "stream",
     "text": [
      "[6, 14]\n"
     ]
    },
    {
     "name": "stderr",
     "output_type": "stream",
     "text": [
      "    Compute Gaussian-Copula ERPAC\n",
      "Phase Amplitude Coupling object defined\n"
     ]
    },
    {
     "name": "stdout",
     "output_type": "stream",
     "text": [
      "(6, 14, 3, 0.2)\n"
     ]
    },
    {
     "name": "stderr",
     "output_type": "stream",
     "text": [
      "    true PAC estimation using Mean Vector Length (MVL, Canolty et al. 2006)\n",
      "    compute surrogates (Swap amplitude time blocks (Bahramisharif et al. 2013), 200 permutations, random_state=347)\n",
      "    infer p-values at (p=0.05, mcp=maxstat)\n",
      "    normalize true PAC estimation by surrogates (Substract the mean and divide by the deviation of the surrogates)\n",
      "    true PAC estimation using Mean Vector Length (MVL, Canolty et al. 2006)\n",
      "    compute surrogates (Swap amplitude time blocks (Bahramisharif et al. 2013), 200 permutations, random_state=0)\n",
      "    infer p-values at (p=0.05, mcp=maxstat)\n",
      "    normalize true PAC estimation by surrogates (Substract the mean and divide by the deviation of the surrogates)\n",
      "    infer p-values at (p=0.05, mcp=maxstat)\n"
     ]
    },
    {
     "ename": "",
     "evalue": "",
     "output_type": "error",
     "traceback": [
      "\u001b[1;31mThe Kernel crashed while executing code in the current cell or a previous cell. \n",
      "\u001b[1;31mPlease review the code in the cell(s) to identify a possible cause of the failure. \n",
      "\u001b[1;31mClick <a href='https://aka.ms/vscodeJupyterKernelCrash'>here</a> for more info. \n",
      "\u001b[1;31mView Jupyter <a href='command:jupyter.viewOutput'>log</a> for further details."
     ]
    }
   ],
   "source": [
    "pac_method = 1 # 1 - MVL, 2 - MI, 3 - HR, 4 - ndPAC, 5 - PLV, 6 - GCPAC\n",
    "surr_method = 2 # 0 - no surr, 1 - swap phase, 2 - swap amp, 3 - time lag\n",
    "norm_method = 4 # 0 - no norm, 1 - subtract, 2 - divide, 3 - subtr+divide, 4 - zscore\n",
    "\n",
    "for chan in range(len(choi)): # range(len(choi))\n",
    "    # Load the data from an MNE Epochs object (e.g., shape: epochs x channels x time)\n",
    "    data = epochs_all_subs.get_data()[:,chan,:]  # Shape: (n_epochs, n_channels, n_times)\n",
    "\n",
    "    print(f\"DATA: (n_trials, n_times)={data.shape}; SAMPLING FREQUENCY={sf}Hz; \"\n",
    "        f\"TIME VECTOR: n_times={len(times)}\")\n",
    "    \n",
    "\n",
    "    for f_pha in [theta, alpha]: # [theta, alpha]\n",
    "        print(f_pha)\n",
    "\n",
    "        if f_pha == theta:\n",
    "            phase_name = 'theta'\n",
    "            amp_name = 'lower gamma'\n",
    "            f_amp = lower_gamma\n",
    "        else:\n",
    "            phase_name = 'alpha'\n",
    "            amp_name = 'higher gamma'\n",
    "            f_amp = higher_gamma\n",
    "\n",
    "        # Event-related PAC - plot\n",
    "        rp_obj = EventRelatedPac(f_pha=f_pha, f_amp=f_amp)\n",
    "        erpac = rp_obj.filterfit(sf, data, method='gc', smooth=100)\n",
    "\n",
    "        plt.figure(figsize=(8, 6))\n",
    "        ax = rp_obj.pacplot(erpac.squeeze(), times, rp_obj.yvec, xlabel='Time',\n",
    "                    ylabel='Amplitude frequency (Hz)',\n",
    "                    title=f'{choi[chan]}: Event-Related PAC {phase_name}-{amp_name}',\n",
    "                    fz_labels=15, fz_title=18)\n",
    "        fig = ax.get_figure()\n",
    "        fig.savefig(os.path.join(pac_figs_dir, f\"{sub_name}_ERPac{task_stage}_{phase_name}{choi[chan]}.png\"), dpi=300, bbox_inches='tight')\n",
    "        plt.close(fig)\n",
    "\n",
    "        # # PAC for planning\n",
    "        phase = tuple((*f_pha, width, step))\n",
    "        print(phase)\n",
    "\n",
    "        p_obj = Pac(idpac=(pac_method, surr_method, norm_method), f_pha=phase, f_amp=f_amp) # 2 - MODULATION INDEX (MI)\n",
    "        # extract all of the phases and amplitudes\n",
    "        pha_p = p_obj.filter(sf, data, ftype='phase')\n",
    "        amp_p = p_obj.filter(sf, data, ftype='amplitude')\n",
    "\n",
    "        # define time indices of planning\n",
    "        time_all = slice(250, 500) # 0s-0.5s\n",
    "\n",
    "        # define phase / amplitude during planning\n",
    "        pha_prep, amp_prep = pha_p[..., time_all], amp_p[..., time_all]\n",
    "\n",
    "        # compute PAC inside planning\n",
    "        pac_prep = p_obj.fit(pha_prep, amp_prep).mean(-1)\n",
    "\n",
    "        vmax = np.max(pac_prep.max())\n",
    "        kw = dict(vmax=vmax, vmin=.04, cmap='viridis')\n",
    "        plt.figure(figsize=(8, 6))\n",
    "        ax = p_obj.comodulogram(pac_prep, title=f\"PAC {task_stage}\", **kw)\n",
    "        fig = ax.get_figure()\n",
    "        plt.ylabel('')\n",
    "        plt.tight_layout()\n",
    "        fig.savefig(os.path.join(pac_figs_dir, f\"{sub_name}_PAC{task_stage}_{phase_name}_{choi[chan]}.png\"), dpi=300, bbox_inches='tight')\n",
    "        # ValueError: Format 'fig' is not supported (supported formats: eps, jpeg, jpg, pdf, pgf, png, ps, raw, rgba, svg, svgz, tif, tiff, webp)\n",
    "        plt.close(fig)\n",
    "\n",
    "\n",
    "        # # STATISTICS\n",
    "        # computing the permutations\n",
    "        p_obj.idpac = (pac_method, surr_method, norm_method) \n",
    "        # compute pac and 200 surrogates\n",
    "        pac_prep = p_obj.fit(pha_p[..., time_all], amp_p[..., time_all], n_perm=200,\n",
    "                             random_state=0)\n",
    "        # get the p-values\n",
    "        mcp = 'maxstat'\n",
    "        pvalues = p_obj.infer_pvalues(p=0.05, mcp=mcp)\n",
    "\n",
    "        # sphinx_gallery_thumbnail_number = 7\n",
    "        plt.figure(figsize=(8, 6))\n",
    "        title = (f'''Significant {phase_name}-{amp_name} coupling\\n\n",
    "                 occurring during the motor planning phase\\n\n",
    "                 (p<0.05, {mcp}-corrected for multiple comparisons''')\n",
    "\n",
    "        # plot the non-significant pac in gray\n",
    "        pac_prep_ns = pac_prep.mean(-1).copy()\n",
    "        pac_prep_ns[pvalues < .05] = np.nan\n",
    "        p_obj.comodulogram(pac_prep_ns, cmap='gray', vmin=np.nanmin(pac_prep_ns),\n",
    "                           vmax=np.nanmax(pac_prep_ns), colorbar=False)\n",
    "        \n",
    "        # plot the significant pac in color\n",
    "        pac_prep_s = pac_prep.mean(-1).copy()\n",
    "        pac_prep_s[pvalues >= .05] = np.nan\n",
    "        ax = p_obj.comodulogram(pac_prep_s, cmap='Spectral_r', vmin=np.nanmin(pac_prep_s),\n",
    "                           vmax=np.nanmax(pac_prep_s), title=title)\n",
    "        plt.gca().invert_yaxis()\n",
    "        fig = ax.get_figure()\n",
    "        fig.savefig(os.path.join(pac_figs_dir, f\"{sub_name}_PAC_STATS{task_stage}_{phase_name}_{choi[chan]}.png\"), dpi=300, bbox_inches='tight')\n",
    "        plt.close(fig)\n",
    "\n",
    "        # !!!!!!!!!!!!!!!!!!!!!!!!!!!!!!!!!!!!!!!!!!!!!!!!!!!!!!!!!!!!!!!!!!!!!!!!!!!!!!!!!!!!!!!\n",
    "        # np.save(os.path.join(pac_dir, f\"{sub_name}_ERPac_{phase_name}_{choi[chan]}.npy\"), rp_obj)\n",
    "        # np.save(os.path.join(pac_dir, f\"{sub_name}_PAC{task_stage}_{phase_name}_{choi[chan]}.npy\"), p_obj)\n",
    "        # np.save(os.path.join(pac_dir, f\"{sub_name}_PAC_STATS{task_stage}_{phase_name}_{choi[chan]}_NON-SIG.npy\"), pac_prep_ns)\n",
    "        # np.save(os.path.join(pac_dir, f\"{sub_name}_PAC_STATS{task_stage}_{phase_name}_{choi[chan]}_SIG.npy\"), pac_prep_s)\n",
    "\n",
    "        # Save the object using pickle\n",
    "        # with open(os.path.join(pac_dir, f\"{sub_name}_ERPac{task_stage}_{phase_name}_{choi[chan]}.pkl\"), 'wb') as file:\n",
    "        #     pickle.dump(rp_obj, file)\n",
    "        with open(os.path.join(pac_dir, f\"{sub_name}_PAC{task_stage}_{phase_name}_{choi[chan]}.pkl\"), 'wb') as file:\n",
    "            pickle.dump(p_obj, file)\n",
    "        # with open(os.path.join(pac_dir, f\"{sub_name}_PAC_STATS{task_stage}_{phase_name}_{choi[chan]}_NON-SIG.pkl\"), 'wb') as file:\n",
    "        #     pickle.dump(pac_prep_ns, file)\n",
    "        with open(os.path.join(pac_dir, f\"{sub_name}_PAC_STATS{task_stage}_{phase_name}_{choi[chan]}_SIG.pkl\"), 'wb') as file:\n",
    "            pickle.dump(pac_prep_s, file)\n"
   ]
  },
  {
   "cell_type": "markdown",
   "metadata": {},
   "source": [
    "Notes on PAC methods\n",
    "\n",
    "1 - WARNING | MVL is amplitude dependent which means that if the amplitude increases, MVL also increases. You should select a normalization method for correcting this limitation (e.g idpac=(1, 2, 4))\n",
    "WARNING | If you want to normalize the estimated PAC, you should select a surrogate method (second digit of `idpac`). Normalization ignored.\n",
    "\n",
    "400 -  77 pvalues = p_obj.infer_pvalues(p=0.05, mcp=mcp) -> AttributeError: 'NoneType' object has no attribute 'mean'"
   ]
  },
  {
   "cell_type": "markdown",
   "metadata": {},
   "source": [
    "______"
   ]
  },
  {
   "cell_type": "markdown",
   "metadata": {},
   "source": [
    "Reading files"
   ]
  },
  {
   "cell_type": "code",
   "execution_count": null,
   "metadata": {},
   "outputs": [
    {
     "data": {
      "text/plain": [
       "array(<tensorpac.pac.EventRelatedPac object at 0x0000017A65F9D100>,\n",
       "      dtype=object)"
      ]
     },
     "metadata": {},
     "output_type": "display_data"
    }
   ],
   "source": [
    "rp_obj1 = np.load(os.path.join(pac_dir, f\"{sub_name}_ERPac_{phase_name}_{eeg_channel_names[chan]}.npy\"), allow_pickle=True)\n",
    "rp_obj1"
   ]
  },
  {
   "cell_type": "code",
   "execution_count": null,
   "metadata": {},
   "outputs": [
    {
     "name": "stdout",
     "output_type": "stream",
     "text": [
      "Gaussian-Copula ERPAC\n"
     ]
    }
   ],
   "source": [
    "# Load the saved object\n",
    "with open(os.path.join(pac_dir, f\"{sub_name}_ERPac_{phase_name}_{eeg_channel_names[chan]}.pkl\"), 'rb') as file:\n",
    "    rp_obj1 = pickle.load(file)\n",
    "\n",
    "# The object is now restored and ready to use\n",
    "print(rp_obj1)"
   ]
  }
 ],
 "metadata": {
  "kernelspec": {
   "display_name": "venv",
   "language": "python",
   "name": "python3"
  },
  "language_info": {
   "codemirror_mode": {
    "name": "ipython",
    "version": 3
   },
   "file_extension": ".py",
   "mimetype": "text/x-python",
   "name": "python",
   "nbconvert_exporter": "python",
   "pygments_lexer": "ipython3",
   "version": "3.12.9"
  }
 },
 "nbformat": 4,
 "nbformat_minor": 2
}
