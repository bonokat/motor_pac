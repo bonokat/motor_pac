{
 "cells": [
  {
   "cell_type": "code",
   "execution_count": 2,
   "id": "4f8ce8e0",
   "metadata": {},
   "outputs": [],
   "source": [
    "import numpy as np\n",
    "import matplotlib.pyplot as plt\n",
    "import mne\n",
    "import os\n",
    "from utils import check_paths\n",
    "import pandas as pd\n",
    "from scipy.io import loadmat\n",
    "import joblib\n",
    "import matplotlib.gridspec as gridspec\n",
    "\n",
    "from pactools import Comodulogram, REFERENCES, raw_to_mask\n",
    "\n",
    "from mne.channels.layout import find_layout\n",
    "from functools import partial\n",
    "from mne.defaults import _handle_default\n",
    "\n",
    "from mne.viz.topo import _erfimage_imshow_unified, _plot_topo\n",
    "\n",
    "from mne.viz.utils import (\n",
    "    _setup_vmin_vmax,\n",
    "    add_background_image\n",
    ")\n",
    "from collections import namedtuple\n",
    "\n",
    "from mne.stats import permutation_cluster_1samp_test\n",
    "\n",
    "import scipy\n",
    "from scipy.stats import zscore\n",
    "\n",
    "%matplotlib qt"
   ]
  },
  {
   "cell_type": "code",
   "execution_count": 9,
   "id": "66330f1b",
   "metadata": {},
   "outputs": [
    {
     "name": "stdout",
     "output_type": "stream",
     "text": [
      "    Reading a source space...\n",
      "    Computing patch statistics...\n",
      "    Patch information added...\n",
      "    [done]\n",
      "    Reading a source space...\n",
      "    Computing patch statistics...\n",
      "    Patch information added...\n",
      "    [done]\n",
      "    2 source spaces read\n",
      "-- number of adjacent vertices : 5124\n",
      "adjacency shape: (5124, 5124)\n"
     ]
    }
   ],
   "source": [
    "src_dir = 'D:\\\\BonoKat\\\\research project\\\\# study 1\\\\mri_data\\\\fs_output\\\\freesurfer\\\\sub_dir\\\\Y'\n",
    "src_fname = os.path.join(src_dir, 'fsaverage_bem\\\\bem\\\\fsaverage-ico4-src.fif')\n",
    "src = mne.read_source_spaces(src_fname)\n",
    "# src.plot(subjects_dir='D:\\\\BonoKat\\\\research project\\\\# study 1\\\\mri_data\\\\fs_output\\\\freesurfer\\\\sub_dir\\\\Y')\n",
    "source_adjacency = mne.spatial_src_adjacency(src)\n",
    "adj = source_adjacency.tocsr()  # Ensure adjacency is CSR format for fast indexing\n",
    "print('adjacency shape:', source_adjacency.shape)"
   ]
  },
  {
   "cell_type": "code",
   "execution_count": null,
   "id": "f598cad8",
   "metadata": {},
   "outputs": [
    {
     "ename": "TypeError",
     "evalue": "__init__() missing 2 required positional arguments: 'tmin' and 'tstep'",
     "output_type": "error",
     "traceback": [
      "\u001b[1;31m---------------------------------------------------------------------------\u001b[0m",
      "\u001b[1;31mTypeError\u001b[0m                                 Traceback (most recent call last)",
      "Cell \u001b[1;32mIn[14], line 10\u001b[0m\n\u001b[0;32m      8\u001b[0m pac_save_path \u001b[38;5;241m=\u001b[39m os\u001b[38;5;241m.\u001b[39mpath\u001b[38;5;241m.\u001b[39mjoin(analysis_dir, \u001b[38;5;124m'\u001b[39m\u001b[38;5;124msource\u001b[39m\u001b[38;5;124m'\u001b[39m, \u001b[38;5;124m'\u001b[39m\u001b[38;5;124mPAC\u001b[39m\u001b[38;5;124m'\u001b[39m)\n\u001b[0;32m      9\u001b[0m stc_data \u001b[38;5;241m=\u001b[39m np\u001b[38;5;241m.\u001b[39mload(os\u001b[38;5;241m.\u001b[39mpath\u001b[38;5;241m.\u001b[39mjoin(pac_save_path, \u001b[38;5;124mf\u001b[39m\u001b[38;5;124m\"\u001b[39m\u001b[38;5;124mPAC_MI_SOURCE_\u001b[39m\u001b[38;5;132;01m{\u001b[39;00msub_name[\u001b[38;5;241m-\u001b[39m\u001b[38;5;241m5\u001b[39m:]\u001b[38;5;132;01m}\u001b[39;00m\u001b[38;5;132;01m{\u001b[39;00mtask\u001b[38;5;132;01m}\u001b[39;00m\u001b[38;5;132;01m{\u001b[39;00mtask_stage\u001b[38;5;132;01m}\u001b[39;00m\u001b[38;5;124m.npy\u001b[39m\u001b[38;5;124m\"\u001b[39m), allow_pickle\u001b[38;5;241m=\u001b[39m\u001b[38;5;28;01mTrue\u001b[39;00m)\n\u001b[1;32m---> 10\u001b[0m stc \u001b[38;5;241m=\u001b[39m \u001b[43mmne\u001b[49m\u001b[38;5;241;43m.\u001b[39;49m\u001b[43mSourceEstimate\u001b[49m\u001b[43m(\u001b[49m\u001b[43mstc_data\u001b[49m\u001b[43m,\u001b[49m\u001b[43m \u001b[49m\u001b[43mvertices\u001b[49m\u001b[38;5;241;43m=\u001b[39;49m\u001b[43msrc\u001b[49m\u001b[43m,\u001b[49m\u001b[43m \u001b[49m\u001b[43msubject\u001b[49m\u001b[38;5;241;43m=\u001b[39;49m\u001b[38;5;124;43m'\u001b[39;49m\u001b[38;5;124;43mfsaverage_bem\u001b[39;49m\u001b[38;5;124;43m'\u001b[39;49m\u001b[43m)\u001b[49m\n",
      "\u001b[1;31mTypeError\u001b[0m: __init__() missing 2 required positional arguments: 'tmin' and 'tstep'"
     ]
    }
   ],
   "source": [
    "eeg_data_dir = 'D:\\\\BonoKat\\\\research project\\\\# study 1\\\\eeg_data\\\\set'\n",
    "group = 'Y'\n",
    "subs = os.listdir(os.path.join(eeg_data_dir, group))\n",
    "sub_name = 's1_pac_sub01'\n",
    "task = '_BL'\n",
    "task_stage = '_plan'\n"
   ]
  },
  {
   "cell_type": "code",
   "execution_count": 16,
   "id": "a7b76a3f",
   "metadata": {},
   "outputs": [],
   "source": [
    "source_dir = os.path.join(eeg_data_dir, group, sub_name, 'preproc', 'analysis', 'source')\n",
    "morphed_dir = os.path.join(source_dir, 'morphed_stcs')\n",
    "i = '001'\n",
    "stc = mne.read_source_estimate(os.path.join(morphed_dir, task, task_stage, f'{sub_name}{task}{task_stage}-stc-lcmv_epoch_{i}_morphed'))"
   ]
  },
  {
   "cell_type": "code",
   "execution_count": null,
   "id": "652988b3",
   "metadata": {},
   "outputs": [
    {
     "name": "stdout",
     "output_type": "stream",
     "text": [
      "Using control points [0.24671839 0.30328944 0.88228696]\n",
      "Reading labels from parcellation...\n",
      "   read 35 labels from D:\\BonoKat\\research project\\# study 1\\mri_data\\fs_output\\freesurfer\\sub_dir\\Y\\fsaverage_bem\\label\\lh.aparc.annot\n",
      "   read 34 labels from D:\\BonoKat\\research project\\# study 1\\mri_data\\fs_output\\freesurfer\\sub_dir\\Y\\fsaverage_bem\\label\\rh.aparc.annot\n"
     ]
    }
   ],
   "source": [
    "# Option 1: Standard labels from aparc\n",
    "brain = stc.plot(subject='fsaverage_bem', subjects_dir=src_dir, hemi='split',\n",
    "                 surface='inflated', time_viewer=True, views=['lat', 'med'],\n",
    "                 clim='auto', colormap='magma')\n",
    "\n",
    "# Load labels\n",
    "labels = mne.read_labels_from_annot('fsaverage_bem', parc='aparc', subjects_dir=src_dir)\n",
    "\n",
    "roi_names = [\n",
    "    # Primary motor cortex\n",
    "    'precentral-lh', 'precentral-rh',\n",
    "    # Premotor cortex\n",
    "    'caudalmiddlefrontal-lh', 'caudalmiddlefrontal-rh',\n",
    "    # Supplementary motor area\n",
    "    'superiorfrontal-lh', 'superiorfrontal-rh',\n",
    "    # Primary somatosensory cortex\n",
    "    'postcentral-lh', 'postcentral-rh',\n",
    "    # Prefrontal cortex\n",
    "    'rostralmiddlefrontal-lh', 'rostralmiddlefrontal-rh',\n",
    "]\n",
    "\n",
    "roi_labels = [lab for lab in labels if lab.name in roi_names]\n",
    "\n",
    "# Overlay labels on the brain\n",
    "for lab in roi_labels:\n",
    "    brain.add_label(lab, borders=True)"
   ]
  },
  {
   "cell_type": "code",
   "execution_count": null,
   "id": "68c5b263",
   "metadata": {},
   "outputs": [
    {
     "name": "stdout",
     "output_type": "stream",
     "text": [
      "Using control points [0.24671839 0.30328944 0.88228696]\n",
      "Reading labels from parcellation...\n",
      "   read 75 labels from D:\\BonoKat\\research project\\# study 1\\mri_data\\fs_output\\freesurfer\\sub_dir\\Y\\fsaverage_bem\\label\\lh.aparc.a2009s.annot\n",
      "   read 75 labels from D:\\BonoKat\\research project\\# study 1\\mri_data\\fs_output\\freesurfer\\sub_dir\\Y\\fsaverage_bem\\label\\rh.aparc.a2009s.annot\n"
     ]
    }
   ],
   "source": [
    "# OPTION 2: More detailed labels from aparc.a2009s\n",
    "brain = stc.plot(subject='fsaverage_bem', subjects_dir=src_dir, hemi='split',\n",
    "                 surface='inflated', time_viewer=True, views=['lat', 'med'],\n",
    "                 clim='auto', colormap='magma')\n",
    "\n",
    "# Load labels\n",
    "labels = mne.read_labels_from_annot('fsaverage_bem', parc='aparc.a2009s', subjects_dir=src_dir)\n",
    "\n",
    "roi_labels = [\n",
    "    # Primary Motor Cortex\n",
    "    'G_precentral-lh', 'G_precentral-rh',\n",
    "\n",
    "    # Premotor Cortex\n",
    "    'S_precentral-sup-part-lh', 'S_precentral-sup-part-rh',\n",
    "    'S_precentral-inf-part-lh', 'S_precentral-inf-part-rh',\n",
    "    'G_front_middle-lh', 'G_front_middle-rh',\n",
    "\n",
    "    # Supplementary Motor Area\n",
    "    'G_and_S_paracentral-lh', 'G_and_S_paracentral-rh',\n",
    "    'G_front_sup-lh', 'G_front_sup-rh',\n",
    "\n",
    "    # Primary Somatosensory Cortex\n",
    "    'G_postcentral-lh', 'G_postcentral-rh',\n",
    "    'S_postcentral-lh', 'S_postcentral-rh',\n",
    "\n",
    "    # Prefrontal Cortex\n",
    "    'S_front_sup-lh', 'S_front_sup-rh',\n",
    "    'S_front_inf-lh', 'S_front_inf-rh',\n",
    "    'S_front_middle-lh', 'S_front_middle-rh'\n",
    "]\n",
    "\n",
    "roi_labels = [lab for lab in labels if lab.name in roi_labels]\n",
    "\n",
    "# Overlay labels on the brain\n",
    "for lab in roi_labels:\n",
    "    brain.add_label(lab, borders=True)"
   ]
  },
  {
   "cell_type": "code",
   "execution_count": 46,
   "id": "bbacc6f2",
   "metadata": {},
   "outputs": [
    {
     "name": "stdout",
     "output_type": "stream",
     "text": [
      "Extracting time courses for 22 labels (mode: mean_flip)\n"
     ]
    }
   ],
   "source": [
    "method = 'mean_flip'  # average signal considering dipole orientation\n",
    "roi_tc = extract_label_time_course(stc, roi_labels, src, mode=method)"
   ]
  },
  {
   "cell_type": "code",
   "execution_count": 48,
   "id": "19f979b2",
   "metadata": {},
   "outputs": [],
   "source": [
    "# Suppose we want to visualize all ROI time courses together\n",
    "# Concatenate both hemispheres\n",
    "n_labels = len(roi_labels)\n",
    "n_times = roi_tc.shape[1]\n",
    "\n",
    "# Create a dummy vertex mapping (one per ROI for each hemisphere)\n",
    "vertices = [np.arange(n_labels // 2), np.arange(n_labels // 2)]\n",
    "\n",
    "# Create the SourceEstimate\n",
    "roi_stc = mne.SourceEstimate(roi_tc, vertices, stc.tmin, stc.tstep, subject=stc.subject)"
   ]
  },
  {
   "cell_type": "code",
   "execution_count": 50,
   "id": "0f4b5182",
   "metadata": {},
   "outputs": [
    {
     "name": "stdout",
     "output_type": "stream",
     "text": [
      "Using control points [0.15532778 0.1774492  0.35075434]\n"
     ]
    },
    {
     "name": "stdout",
     "output_type": "stream",
     "text": [
      "Using control points [0.21868608 0.25945783 0.3260517 ]\n"
     ]
    }
   ],
   "source": [
    "brain = roi_stc.plot(\n",
    "    subject='fsaverage_bem',\n",
    "    subjects_dir=src_dir,\n",
    "    hemi='split',\n",
    "    views='lat',\n",
    "    time_viewer=True,\n",
    "    smoothing_steps=5,\n",
    "    clim='auto'\n",
    ")"
   ]
  }
 ],
 "metadata": {
  "kernelspec": {
   "display_name": "venv",
   "language": "python",
   "name": "python3"
  },
  "language_info": {
   "codemirror_mode": {
    "name": "ipython",
    "version": 3
   },
   "file_extension": ".py",
   "mimetype": "text/x-python",
   "name": "python",
   "nbconvert_exporter": "python",
   "pygments_lexer": "ipython3",
   "version": "3.12.10"
  }
 },
 "nbformat": 4,
 "nbformat_minor": 5
}
